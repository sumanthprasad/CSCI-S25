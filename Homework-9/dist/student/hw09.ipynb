{
 "cells": [
  {
   "cell_type": "code",
   "execution_count": 1,
   "id": "13f2dcdc",
   "metadata": {
    "deletable": false,
    "editable": false
   },
   "outputs": [],
   "source": [
    "# Initialize Otter\n",
    "import otter\n",
    "grader = otter.Notebook(\"hw09.ipynb\")"
   ]
  },
  {
   "cell_type": "markdown",
   "id": "bbbf1431",
   "metadata": {},
   "source": [
    "# Homework 9:  Confidence Intervals"
   ]
  },
  {
   "cell_type": "markdown",
   "id": "2b1fa56f",
   "metadata": {},
   "source": [
    "\n",
    "\n",
    "## Due Date: Friday July 11th by 11:59 PM MT on Gradescope\n",
    "\n",
    "\n",
    "## Collaboration Policy\n",
    "\n",
    "Data science is a collaborative activity.  However a key step in learning and retention is **creating solutions on your own.**  \n",
    "\n",
    "Below are examples of acceptable vs unacceptable use of resources and collaboration when doing HW assignments in CSCI 3022.\n",
    "\n",
    "\n",
    "The following would be some **examples of cheating** when working on HW assignments in CSCI 3022.  Any of these constitute a **violation of the course's collaboration policy and will result in an F in the course and a trip to the honor council**.   \n",
    "\n",
    "\n",
    " - Consulting web pages that may have a solution to a given homework problem or one similar is cheating.  However, consulting the class notes, and web pages that explain the material taught in class but do NOT show a solution to the homework problem in question are permissible to view.  Clearly, there's a fuzzy line here between a valid use of resources and cheating. To avoid this line, one should merely consult the course notes, the course textbook, and references that contain syntax and/or formulas.\n",
    " - Copying a segment of code or math solution of three lines or more from another student from a printout, handwritten copy, or by looking at their computer screen \n",
    " - Allowing another student to copy a segment of your code or math solution of three lines or more\n",
    " - Taking a copy of another student's work (or a solution found online) and then editing that copy\n",
    " - Reading someone else’s solution to a problem on the HW before writing your own.\n",
    " - Asking someone to write all or part of a program or solution for you.\n",
    " - Asking someone else for the code necessary to fix the error for you, other than for simple syntactical errors\n",
    " \n",
    "\n",
    "\n",
    "On the other hand, the following are some **examples of things which would NOT usually be\n",
    "considered to be cheating**:\n",
    " - Working on a HW problem on your own first and then discussing with a classmate a particular part in the problem solution where you are stuck.  After clarifying any questions you should then continue to write your solution independently.\n",
    " - Asking someone (or searching online) how a particular construct in the language works.\n",
    " - Asking someone (or searching online) how to formulate a particular construct in the language.\n",
    " - Asking someone for help in finding an error in your program.  \n",
    " - Asking someone why a particular construct does not work as you expected in a given program.\n",
    "   \n",
    "\n",
    "To test whether you are truly doing your own work and retaining what you've learned you should be able to easily reproduce from scratch and explain a HW solution that was your own when asked in office hours by a Instructor or on a quiz/exam.   \n",
    "\n",
    "\n",
    "If you have difficulty in formulating the general solution to a problem on your own, or\n",
    "you have difficulty in translating that general solution into a program, it is advisable to see\n",
    "your instructor or teaching assistant rather than another student as this situation can easily\n",
    "lead to a, possibly inadvertent, cheating situation.\n",
    "\n",
    "We are here to help!  Visit HW Hours and/or post questions on Discord!\n"
   ]
  },
  {
   "cell_type": "markdown",
   "id": "b040a7c3-e466-403d-9884-5b8969f8aec3",
   "metadata": {},
   "source": [
    "If while completing this assignment you reference any websites other than those linked in this assignment or provided on Canvas please list those references here:\n",
    "\n",
    "**External references**:  *list any websites you referenced"
   ]
  },
  {
   "cell_type": "markdown",
   "id": "1ee34b34-778f-48d8-87a7-173cd97a049c",
   "metadata": {},
   "source": [
    "#### Grading\n",
    "Grading is broken down into autograded answers and manually graded answers. \n",
    "\n",
    "For autograded answers, the results of your code are compared to provided and/or hidden tests.\n",
    "\n",
    "For manually graded answers you must show and explain all steps.  Graders will evaluate how well you answered the question and/or fulfilled the requirements of the question.\n",
    "\n",
    "\n",
    "### Score breakdown\n",
    "\n",
    "\n",
    "\n",
    "Question | Points | Grading Type\n",
    "--- | --- | ---\n",
    "Question 1 | 4 | manual\n",
    "Question 2 | 5 | auto & manual\n",
    "Question 3 | 12 | auto & manual\n",
    "Question 4 | 9 | auto\n",
    "Question 5 | 20 | auto & manual\n",
    "|Total | 50\n",
    "\n",
    "\n",
    "\n",
    "**Assigned Readings On These Topics from Class Schedule**: \n",
    "\n",
    "* [Bootstrapping](https://inferentialthinking.com/chapters/13/2/Bootstrap.html)\n",
    "\n",
    "* [Confidence Intervals](https://inferentialthinking.com/chapters/13/3/Confidence_Intervals.html)\n",
    "\n",
    "* [Using Confidence Intervals](https://inferentialthinking.com/chapters/13/4/Using_Confidence_Intervals.html)\n",
    "\n",
    "* [Choosing a Sample Size](https://inferentialthinking.com/chapters/14/6/Choosing_a_Sample_Size.html)\n",
    "\n",
    "\n",
    "\n",
    "\n",
    "**Assignment Learning Objectives**\n",
    "\n",
    "* Define p-hacking and how to avoid it\n",
    "\n",
    "* Define what a confidence interval is and how to interpret it.  \n",
    "\n",
    "* Calculate confidence intervals using the bootstrapping percentile method.\n",
    "\n",
    "* Explain key assumptions and limitations of the bootstrapping percentile method.\n",
    "\n",
    "* Explain the connection between CI and hypothesis tests.\n",
    "\n",
    "* Use the CLT to create and interpret Confidence Intervals for the population mean.\n",
    "\n",
    "* Use CLT to create and interpret confidence intervals for population proportions.\n",
    "\n",
    "* Determine sample sizes based on desired confidence interval widths.\n",
    "\n"
   ]
  },
  {
   "cell_type": "markdown",
   "id": "2343477b-3132-4010-88a6-a99b760d8be6",
   "metadata": {},
   "source": [
    "## <a id='top'></a>\n",
    "---\n",
    "**Shortcuts:**  [Problem 2](#p2) | [Problem 3](#p3) | [Problem 4](#p4) | [Problem 5](#p5) |\n",
    "---\n",
    "<hr style=\"border: 5px solid #003262;\" />\n",
    "<hr style=\"border: 1px solid #fdb515;\" />"
   ]
  },
  {
   "cell_type": "code",
   "execution_count": null,
   "id": "20af1960",
   "metadata": {},
   "outputs": [],
   "source": [
    "import pandas as pd\n",
    "# These lines import the Numpy and Datascience modules.\n",
    "import numpy as np\n",
    "from matplotlib.ticker import PercentFormatter\n",
    "# These lines do some fancy plotting magic.\n",
    "import matplotlib\n",
    "%matplotlib inline\n",
    "import matplotlib.pyplot as plt\n",
    "plt.style.use('fivethirtyeight')\n",
    "import warnings\n",
    "warnings.simplefilter('ignore', FutureWarning)\n",
    "import hashlib\n",
    "\n",
    "from matplotlib import patches\n",
    "from ipywidgets import interact, interactive, fixed\n",
    "import ipywidgets as widgets\n",
    "\n",
    "\n",
    "def get_hash(num):\n",
    "    \"\"\"Helper function for assessing correctness\"\"\"\n",
    "    return hashlib.md5(str(num).encode()).hexdigest()"
   ]
  },
  {
   "cell_type": "markdown",
   "id": "ec5a23f2-01b7-4163-ad25-721e24fc45bd",
   "metadata": {
    "deletable": false,
    "editable": false
   },
   "source": [
    "<!-- BEGIN QUESTION -->\n",
    "\n",
    "<br>\n",
    "\n",
    "---\n",
    "[Back to top](#top)\n",
    "\n",
    "<a id='p1'></a>\n",
    "\n",
    "\n",
    "\n",
    "The first question on this assignment involves concepts about p-values.  If you'd like a refresher on p-values before starting this question, we recommend the following videos:\n",
    " - **[Video: p-values made easy](https://youtu.be/9jW9G8MO4PQ?si=p8ELBmwNyQknaiTI)**\n",
    " - **[Video: p-value recap video by Professor Oscamou](https://www.youtube.com/watch?v=rnhWEFH79o8)**\n",
    "\n",
    "## QUESTION 1  - Scientists vs. P-Values (4 pts) \n",
    "***\n",
    "\n",
    "Read the following article AND watch the following video.  Then answer the following questions below.\n",
    "\n",
    "\n",
    " Step 1).  Read the following article from **FiveThirtyEight**:\n",
    "     [Statisticians Found One Thing They Can Agree On: It's Time to Stop Misusing P-Values](http://fivethirtyeight.com/features/statisticians-found-one-thing-they-can-agree-on-its-time-to-stop-misusing-p-values/)\n",
    " \n",
    " Step 2).  Watch this video (11 min):  [P-Hacking](https://www.youtube.com/watch?v=Gx0fAjNHb1M)\n",
    "\n",
    "\n",
    "\n",
    "**Based on the article:**\n",
    "\n",
    "**i.**  In what ways are scientists misusing p-values?   For full credit list **at least 3 ways**  mentioned in the article. \n",
    "\n",
    "\n",
    "**ii.**  What suggestions are made in the article to use them properly? \n",
    "\n",
    "**Based on the video:**\n",
    "\n",
    "**iii.**  Suppose the null hypothesis is true.  If you're conducting multiple hypothesis tests at the 5% significance level, what's the minimum number of tests you need to do before it's more than 50% likely that at least one of the tests will incorrectly reject the null hypothesis?  Show work justifying your answer.   \n",
    "\n",
    "**iv.**  What is the Bonferroni correction as described in the video?  Give an example from the video as to how it could be used. \n",
    "\n",
    "Answer all 4 parts in the same Markdown cell below:"
   ]
  },
  {
   "cell_type": "markdown",
   "id": "c7752471",
   "metadata": {},
   "source": [
    "_Type your answer here, replacing this text._"
   ]
  },
  {
   "cell_type": "markdown",
   "id": "ca83a993",
   "metadata": {
    "deletable": false,
    "editable": false,
    "tags": []
   },
   "source": [
    "<!-- END QUESTION -->\n",
    "\n",
    "<hr style=\"border: 5px solid #003262;\" />\n",
    "<hr style=\"border: 1px solid #fdb515;\" />\n",
    "\n",
    "[Back to top](#top)\n",
    "\n",
    "<a id='p2'></a>\n",
    "\n",
    "## <span style='color:Red'>  Question 2. Thai Restaurants in Boulder"
   ]
  },
  {
   "cell_type": "markdown",
   "id": "9c760bda",
   "metadata": {},
   "source": [
    "This question involves creating confidence intervals using bootstrapping.\n",
    "If you'd like a refresher of the concepts needed to answer this question, we recommend watching the following:\n",
    "\n",
    " -  **[Video: Intro to Confidence Intervals by Professor Oscamou](https://www.youtube.com/watch?v=pCr_Fggyp4w)**\n",
    " -  **[Video: Bootstrapping Confidence Intervals by Professor Oscamou](https://www.youtube.com/watch?v=x2NrjZM4fgQ)**\n",
    "\n",
    "Oswaldo and Varun are trying to see what the best Thai restaurant in Boulder is. They survey 1,500 CU Boulder students selected uniformly at random and ask each student what Thai restaurant is the best. (*Note: This data is fabricated for the purposes of this homework.*) The choices of Thai restaurants are [Aloy Thai](https://www.aloythai.com/), [Budda Cafe](https://www.buddhathaicuisine.com/menu), [Folsom Thai](https://www.folsomthaiatboulder.com/), and [Khow Thai](https://khow-thai.com/). After compiling the results, Oswaldo and Varun release the following percentages from their sample:\n",
    "\n",
    "|Thai Restaurant  | Percentage|\n",
    "|:------------:|:------------:|\n",
    "|Aloy Thai| 8% |\n",
    "|Khow Thai | 53% |\n",
    "|Folsom Thai | 25% |\n",
    "|Budda Cafe | 14% |\n",
    "\n",
    "These percentages represent a uniform random sample of the population of CU Boulder students. We will attempt to estimate the corresponding *parameters*, or the percentage of the votes that each restaurant will receive from the population (i.e. all CU Boulder students). We will use confidence intervals to compute a range of values that reflects the uncertainty of our estimates.\n",
    "\n",
    "The table `votes` contains the results of Oswaldo and Varun's survey."
   ]
  },
  {
   "cell_type": "code",
   "execution_count": null,
   "id": "74d6d265",
   "metadata": {},
   "outputs": [],
   "source": [
    "# Just run this cell\n",
    "votes = pd.read_csv('votes.csv')\n",
    "votes"
   ]
  },
  {
   "cell_type": "markdown",
   "id": "670fc03f",
   "metadata": {
    "deletable": false,
    "editable": false
   },
   "source": [
    "<hr style=\"border: 5px solid #003262;\" />\n",
    "<hr style=\"border: 1px solid #fdb515;\" />\n",
    "\n",
    "## <span style='color:Red'>  Question 2a (2 points)\n",
    "\n",
    "\n",
    "\n",
    "Oswaldo and Varun notice that in their sample, Khow Thai has received more than half of the votes.    They are interested in obtaining a confidence interval for the percentage of votes that Khow Thai will receive from the population.\n",
    "\n",
    "\n",
    "To begin, complete the function `one_resampled_percentage` below. It should return Khow Thai's ***percentage*** of votes after taking the original table as input (`tbl`) and performing **one bootstrap sample** of it. Reminder that a percentage is between 0 and 100. \n",
    "\n",
    "*Note:* `tbl` will always be in the same format as `votes`.\n",
    "\n",
    "*Hint:* Given a table of votes, how can you figure out what percentage of the votes are for a certain restaurant? **Be sure to use percentages, not proportions, for this question!**\n"
   ]
  },
  {
   "cell_type": "code",
   "execution_count": null,
   "id": "b957a5cb",
   "metadata": {
    "tags": []
   },
   "outputs": [],
   "source": [
    "def one_resampled_percentage(tbl):\n",
    "    ...\n",
    "\n",
    "one_resampled_percentage(votes)"
   ]
  },
  {
   "cell_type": "code",
   "execution_count": null,
   "id": "8a69f291",
   "metadata": {
    "deletable": false,
    "editable": false
   },
   "outputs": [],
   "source": [
    "grader.check(\"q2a\")"
   ]
  },
  {
   "cell_type": "markdown",
   "id": "5cc949b8",
   "metadata": {
    "deletable": false,
    "editable": false
   },
   "source": [
    "<!-- BEGIN QUESTION -->\n",
    "\n",
    "<hr style=\"border: 5px solid #003262;\" />\n",
    "<hr style=\"border: 1px solid #fdb515;\" />\n",
    "\n",
    "## <span style='color:Red'>  Question 2b (1 point)\n",
    "\n",
    "i).  Complete the `percentages_in_resamples(num_bootstraps)` function such that it simulates and returns a numpy array of length `num_bootstraps` elements, where each element represents a bootstrapped estimate of the percentage of voters who will vote for Khow Thai. You should use the `one_resampled_percentage` function you wrote above.\n",
    "\n",
    "\n",
    "ii).  Run your function `percentages_in_resamples` for `num_bootstraps = 25000` and store the results in a numpy array called `resampled_percentages`.  Then create a density histogram of the entries in `resampled_percentages` array. **Set the bin number equal to 20 when plotting your histogram.**    Label both axes and include a title on your plot. \n",
    "\n"
   ]
  },
  {
   "cell_type": "code",
   "execution_count": null,
   "id": "429d07b2",
   "metadata": {
    "for_assignment_type": "solution",
    "tags": []
   },
   "outputs": [],
   "source": [
    "def percentages_in_resamples(num_bootstraps):\n",
    "    \n",
    "    ...\n"
   ]
  },
  {
   "cell_type": "code",
   "execution_count": null,
   "id": "32c6ddd0",
   "metadata": {
    "tags": []
   },
   "outputs": [],
   "source": [
    "...\n",
    "# your code for histogram above this line"
   ]
  },
  {
   "cell_type": "code",
   "execution_count": null,
   "id": "99cbd115",
   "metadata": {
    "deletable": false,
    "editable": false
   },
   "outputs": [],
   "source": [
    "grader.check(\"q2b\")"
   ]
  },
  {
   "cell_type": "markdown",
   "id": "9bafe3dd",
   "metadata": {
    "deletable": false,
    "editable": false
   },
   "source": [
    "<!-- END QUESTION -->\n",
    "\n",
    "<hr style=\"border: 5px solid #003262;\" />\n",
    "<hr style=\"border: 1px solid #fdb515;\" />\n",
    "\n",
    "## <span style='color:Red'>  Question 2c (1 point)\n",
    "Using the array `resampled_percentages`, find the values at the two edges of the middle 95% of the bootstrapped percentage estimates. Compute the lower and upper ends of the interval, named `khow_lower_bound` and `khow_upper_bound` respectively. \n"
   ]
  },
  {
   "cell_type": "code",
   "execution_count": null,
   "id": "801120d3",
   "metadata": {
    "deletable": false,
    "tags": []
   },
   "outputs": [],
   "source": [
    "khow_lower_bound = ...\n",
    "khow_upper_bound = ...\n",
    "print(f\"Bootstrapped 95% confidence interval for the percentage of Khow Thai voters in the population: [{khow_lower_bound:.2f}, {khow_upper_bound:.2f}]\")"
   ]
  },
  {
   "cell_type": "code",
   "execution_count": null,
   "id": "62d4c1ec",
   "metadata": {
    "deletable": false,
    "editable": false
   },
   "outputs": [],
   "source": [
    "grader.check(\"q2c\")"
   ]
  },
  {
   "cell_type": "markdown",
   "id": "a9ff3c0a",
   "metadata": {},
   "source": [
    "<hr style=\"border: 5px solid #003262;\" />\n",
    "<hr style=\"border: 1px solid #fdb515;\" />\n",
    "\n",
    "[Back to top](#top)\n",
    "\n",
    "<a id='p3'></a>\n",
    "\n",
    "## <span style='color:Red'>  Question 3. Interpreting Confidence Intervals \n",
    "\n",
    "\n",
    "\n",
    "\n",
    "## <span style='color:Red'>  Question 3a: Video Assignment (3 points)\n",
    "\n",
    "\n",
    "\n",
    "Complete this [Video Assignment: Interpreting Confidence Intervals (click this link)](https://canvas.colorado.edu/courses/120673/assignments/2371676) available on Canvas (to receive points you must watch the entire video and answer the embedded questions).\n"
   ]
  },
  {
   "cell_type": "markdown",
   "id": "8176d8d4",
   "metadata": {
    "deletable": false,
    "editable": false
   },
   "source": [
    "<hr style=\"border: 5px solid #003262;\" />\n",
    "<hr style=\"border: 1px solid #fdb515;\" />\n",
    "\n",
    "## <span style='color:Red'>  Question 3b (1 point)\n",
    "Suppose we produced 6,000 new samples (each one a new/distinct uniform random sample of 1,500 students) from the population and created a 95% confidence interval for the percentage of people who vote for Khow Thai from each one. Roughly how many of those 6,000 intervals do you expect will actually contain the true percentage of the population? \n",
    "\n",
    "Assign your answer to `true_percentage_intervals`.\n"
   ]
  },
  {
   "cell_type": "code",
   "execution_count": null,
   "id": "6e84dc58",
   "metadata": {
    "deletable": false,
    "tags": []
   },
   "outputs": [],
   "source": [
    "true_percentage_intervals = ..."
   ]
  },
  {
   "cell_type": "code",
   "execution_count": null,
   "id": "9204f003",
   "metadata": {
    "deletable": false,
    "editable": false
   },
   "outputs": [],
   "source": [
    "grader.check(\"q3b\")"
   ]
  },
  {
   "cell_type": "markdown",
   "id": "07d06bef",
   "metadata": {
    "deletable": false,
    "editable": false
   },
   "source": [
    "<hr style=\"border: 5px solid #003262;\" />\n",
    "<hr style=\"border: 1px solid #fdb515;\" />\n",
    "\n",
    "## <span style='color:Red'>  Question 3c (1 point)\n",
    "\n",
    "\n",
    "The staff computed the following 95% confidence interval for the percentage of Khow Thai voters: \n",
    "\n",
    "$$[50.53, 55.53]$$\n",
    "\n",
    "(Your answer may have been a bit different due to randomness; that doesn't mean it was wrong!)\n",
    "\n",
    "Suppose we are interested in testing a simple yes-or-no question:\n",
    "\n",
    "> \"Is the percentage of votes for Khow Thai equal to the percentage of votes for Aloy Thai, Folsom Thai, and Budda Cafe combined?\"\n",
    "\n",
    "Our null hypothesis is that the percentages are equal, or equivalently, that Khow Thai's percentage is 50%. Our alternative hypothesis is that Khow Thai's percentage is not equal to 50%  In the questions below, don't compute any confidence interval yourself—use only the staff's 95% confidence interval."
   ]
  },
  {
   "cell_type": "markdown",
   "id": "48bc78f9",
   "metadata": {
    "deletable": false,
    "editable": false
   },
   "source": [
    "Say we use a 5% p-value cutoff. Do we reject the null, fail to reject the null, or are we unable to tell using the staff's confidence interval? \n",
    "\n",
    "\n",
    "Assign `cutoff_five_percent` to the number corresponding to the correct answer.\n",
    "\n",
    "1. Reject the null / Data is consistent with the alternative hypothesis\n",
    "2. Fail to reject the null / Data is consistent with the null hypothesis\n",
    "3. Unable to tell using our staff confidence interval\n",
    "\n",
    "*Hint:* Consider the relationship between the p-value cutoff and confidence. If you're confused, take a look at [this chapter](https://inferentialthinking.com/chapters/13/4/Using_Confidence_Intervals.html) of the textbook.\n"
   ]
  },
  {
   "cell_type": "code",
   "execution_count": null,
   "id": "4e294f26",
   "metadata": {
    "deletable": false,
    "tags": []
   },
   "outputs": [],
   "source": [
    "cutoff_five_percent = ..."
   ]
  },
  {
   "cell_type": "code",
   "execution_count": null,
   "id": "55560645",
   "metadata": {
    "deletable": false,
    "editable": false
   },
   "outputs": [],
   "source": [
    "grader.check(\"q3c\")"
   ]
  },
  {
   "cell_type": "markdown",
   "id": "26085d99",
   "metadata": {
    "deletable": false,
    "editable": false
   },
   "source": [
    "<hr style=\"border: 5px solid #003262;\" />\n",
    "<hr style=\"border: 1px solid #fdb515;\" />\n",
    "\n",
    "## <span style='color:Red'>  Question 3d (1 point)\n",
    "    \n",
    "What if, instead, we use a p-value cutoff of 1%? Do we reject the null, fail to reject the null, or are we unable to tell using our staff confidence interval? \n",
    "\n",
    "Recall, the staff computed the following 95% confidence interval for the percentage of Khow Thai voters: \n",
    "\n",
    "$$[50.53, 55.53]$$\n",
    "\n",
    "\n",
    "Assign `cutoff_one_percent` to the number corresponding to the correct answer.\n",
    "\n",
    "1. Reject the null / Data is consistent with the alternative hypothesis\n",
    "2. Fail to reject the null / Data is consistent with the null hypothesis\n",
    "3. Unable to tell using our staff confidence interval\n"
   ]
  },
  {
   "cell_type": "code",
   "execution_count": null,
   "id": "b5e83728",
   "metadata": {
    "deletable": false,
    "tags": []
   },
   "outputs": [],
   "source": [
    "cutoff_one_percent = ..."
   ]
  },
  {
   "cell_type": "code",
   "execution_count": null,
   "id": "daf0a5a1",
   "metadata": {
    "deletable": false,
    "editable": false
   },
   "outputs": [],
   "source": [
    "grader.check(\"q3d\")"
   ]
  },
  {
   "cell_type": "markdown",
   "id": "e79c8efd",
   "metadata": {
    "deletable": false,
    "editable": false
   },
   "source": [
    "<hr style=\"border: 5px solid #003262;\" />\n",
    "<hr style=\"border: 1px solid #fdb515;\" />\n",
    "\n",
    "## <span style='color:Red'>  Question 3e (1 point)\n",
    "What if we use a p-value cutoff of 10%? Do we reject, fail to reject, or are we unable to tell using our confidence interval? \n",
    "\n",
    "The staff computed the following 95% confidence interval for the percentage of Khow Thai voters: \n",
    "\n",
    "$$[50.53, 55.53]$$\n",
    "\n",
    "\n",
    "\n",
    "Assign `cutoff_ten_percent` to the number corresponding to the correct answer.\n",
    "\n",
    "1. Reject the null / Data is consistent with the alternative hypothesis\n",
    "2. Fail to reject the null / Data is consistent with the null hypothesis\n",
    "3. Unable to tell using our staff confidence interval\n"
   ]
  },
  {
   "cell_type": "code",
   "execution_count": null,
   "id": "d5f1fa73",
   "metadata": {
    "deletable": false,
    "tags": []
   },
   "outputs": [],
   "source": [
    "cutoff_ten_percent = ..."
   ]
  },
  {
   "cell_type": "code",
   "execution_count": null,
   "id": "9b5a420e",
   "metadata": {
    "deletable": false,
    "editable": false
   },
   "outputs": [],
   "source": [
    "grader.check(\"q3e\")"
   ]
  },
  {
   "cell_type": "markdown",
   "id": "8c61a713",
   "metadata": {
    "deletable": false,
    "editable": false
   },
   "source": [
    "<!-- BEGIN QUESTION -->\n",
    "\n",
    "<hr style=\"border: 5px solid #003262;\" />\n",
    "<hr style=\"border: 1px solid #fdb515;\" />\n",
    "\n",
    "## <span style='color:Red'>  Question 3f (5 Points)\n",
    "The staff also created 70%, 90%, and 99% confidence intervals from the same sample, but we forgot to label which confidence interval represented which percentages! **First**, match each confidence level (70%, 90%, 99%) with its corresponding interval in the cell below \n",
    "\n",
    "(e.g. __ % CI: [52.1, 54] $\\rightarrow$ replace the blank with one of the three confidence levels).\n",
    "\n",
    "**Then**, explain your thought process and how you came up with your answers. \n",
    "\n",
    "The intervals are below:\n",
    "\n",
    "* [50.03, 55.94]\n",
    "* [52.1, 54]\n",
    "* [50.97, 54.99]\n",
    "\n"
   ]
  },
  {
   "cell_type": "markdown",
   "id": "a8b75d97",
   "metadata": {},
   "source": [
    "_Type your answer here, replacing this text._"
   ]
  },
  {
   "cell_type": "markdown",
   "id": "a9e457a3-a516-4635-bc73-5294a9442d25",
   "metadata": {
    "deletable": false,
    "editable": false
   },
   "source": [
    "<!-- END QUESTION -->\n",
    "\n",
    "<hr style=\"border: 5px solid #003262;\" />\n",
    "<hr style=\"border: 1px solid #fdb515;\" />\n",
    "\n",
    "[Back to top](#top)\n",
    "\n",
    "<a id='p4'></a>\n",
    "\n",
    "The next question involves choosing the correct sample size to create a confidence interval with a specific level of confidence.  \n",
    "If you'd like a refresher of the concepts needed to answer this question, we recommend the following:\n",
    "\n",
    " -  **[Video: CI for proportions using CLT by Professor Oscamou](https://www.youtube.com/watch?v=8YQOaKYoOmw)**\n",
    " -  **[Video: Determining sample size when creating CI by Professor Oscamou](https://www.youtube.com/watch?v=C-Iy6eUDdbE)**\n",
    " -  **[Reading: Section 14.6 - Choosing a Sample Size](https://inferentialthinking.com/chapters/14/6/Choosing_a_Sample_Size.html#)**\n",
    "\n",
    "## <span style='color:Red'>  Question 4. Sample Size and Confidence Level\n",
    "\n",
    "\n",
    "A data science class at the large University wants to estimate the **percent of students at the school who use Instagram.** To do this, they need to take a random sample of students. You can assume that their method of sampling is equivalent to drawing at random with replacement from students at the school.\n"
   ]
  },
  {
   "cell_type": "markdown",
   "id": "434290ef-e68b-4c5e-bfe1-10c08a7f0502",
   "metadata": {
    "deletable": false,
    "editable": false
   },
   "source": [
    "<hr style=\"border: 5px solid #003262;\" />\n",
    "<hr style=\"border: 1px solid #fdb515;\" />\n",
    "\n",
    "## <span style='color:Red'>  Question 4a (2 points)\n",
    "Assign `smallest` to the **integer** (not float) that gives the smallest number of students they should sample to ensure that a **95%** confidence interval for the parameter has a width of no more than $8\\%$ from left end to right end. \n",
    "\n",
    "*Hint:* How can our data be represented to show if a student in the sample is an Instagram user? Given this, what assumptions can we make for the SD of the population? [Section 14.6](https://inferentialthinking.com/chapters/14/6/Choosing_a_Sample_Size.html#) might be helpful!\n",
    "\n",
    "*Note:* Notice that the smallest sample size has to be an integer, so if you get a non-integer for an answer, you need to round it up to the nearest integer.  The `np.ceil` function may be helpful.\n"
   ]
  },
  {
   "cell_type": "code",
   "execution_count": null,
   "id": "9c260d75-d7a8-4348-8ce9-23fdb18677ee",
   "metadata": {
    "tags": []
   },
   "outputs": [],
   "source": [
    "smallest = ...\n",
    "smallest"
   ]
  },
  {
   "cell_type": "code",
   "execution_count": null,
   "id": "26311740",
   "metadata": {
    "deletable": false,
    "editable": false
   },
   "outputs": [],
   "source": [
    "grader.check(\"q4a\")"
   ]
  },
  {
   "cell_type": "markdown",
   "id": "5aab5e92-c0eb-4ef3-ae64-33b989869514",
   "metadata": {
    "deletable": false,
    "editable": false
   },
   "source": [
    "<hr style=\"border: 5px solid #003262;\" />\n",
    "<hr style=\"border: 1px solid #fdb515;\" />\n",
    "\n",
    "## <span style='color:Red'>  Question 4b (2 points)\n",
    "    \n",
    "Suppose the data science class decides to construct a 90% confidence interval instead of a 95% confidence interval, but they still require that the width of the interval is no more than 8% from left end to right end. Will they need the same sample size as in Question 4a? \n",
    "\n",
    "Assign `sample_90` to the number corresponding to the correct answer.\n",
    "\n",
    "1. Yes, they must use the same sample size.\n",
    "2. No, a smaller sample size will work.\n",
    "3. No, they will need a bigger sample.\n"
   ]
  },
  {
   "cell_type": "code",
   "execution_count": null,
   "id": "57eec391",
   "metadata": {
    "deletable": false,
    "tags": []
   },
   "outputs": [],
   "source": [
    "sample_90 = ..."
   ]
  },
  {
   "cell_type": "code",
   "execution_count": null,
   "id": "4bb1ac68",
   "metadata": {
    "deletable": false,
    "editable": false
   },
   "outputs": [],
   "source": [
    "grader.check(\"q4b\")"
   ]
  },
  {
   "cell_type": "markdown",
   "id": "24925980-af0c-4983-a836-6f6c32735035",
   "metadata": {
    "deletable": false,
    "editable": false
   },
   "source": [
    "<hr style=\"border: 5px solid #003262;\" />\n",
    "<hr style=\"border: 1px solid #fdb515;\" />\n",
    "\n",
    "## <span style='color:Red'>  Question 4c (2 points)\n",
    "The professor tells the class that a 90% confidence interval for the parameter is constructed exactly like a 95% confidence interval, except that you have to go only 1.64 SDs on either side of the estimate (±1.64) instead of 2 SDs on either side (±2). Assign `smallest_num` to the smallest number of students they should sample to ensure that a **90%** confidence interval for the parameter has a width of no more than 8% from left end to right end. \n",
    "\n",
    "*Note:* Just like in Question 4a, your answer should an **integer**. \n"
   ]
  },
  {
   "cell_type": "code",
   "execution_count": null,
   "id": "f3791d50-205b-4262-ba9f-3d1d00c1465f",
   "metadata": {
    "tags": []
   },
   "outputs": [],
   "source": [
    "smallest_num = ...\n",
    "smallest_num"
   ]
  },
  {
   "cell_type": "code",
   "execution_count": null,
   "id": "5a862e92",
   "metadata": {
    "deletable": false,
    "editable": false
   },
   "outputs": [],
   "source": [
    "grader.check(\"q4c\")"
   ]
  },
  {
   "cell_type": "markdown",
   "id": "3a731698-3ce0-47df-ab78-237d9ac6e1db",
   "metadata": {},
   "source": [
    "For this next exercise, please consult [Section 14.3.4](https://inferentialthinking.com/chapters/14/3/SD_and_the_Normal_Curve.html#the-standard-normal-cdf) of the textbook for similar examples.\n",
    "\n",
    "The students are curious about how the professor came up with the value 1.64 in Question 4c. "
   ]
  },
  {
   "cell_type": "markdown",
   "id": "bc0730b9",
   "metadata": {},
   "source": [
    "To start, run the code below to visualize a plot of the standard normal distribution (with mean 0 and standard deviation 1).  \n",
    "\n",
    "The `plt.fill_between` method shades in the region from -1.64 to +1.64 SDs. \n"
   ]
  },
  {
   "cell_type": "code",
   "execution_count": null,
   "id": "04e0f8e0-08b6-469b-a05d-8e00d34f80dd",
   "metadata": {},
   "outputs": [],
   "source": [
    "# Just run this cell\n",
    "from scipy import stats\n",
    "\n",
    "\n",
    "x = np.linspace(-4, 4, 1000)\n",
    "plt.plot(x, stats.norm.pdf(x,0))\n",
    "plt.xticks([-3,-1.64,0,1.64,3])\n",
    "plt.title(\"Normal Distribution: mean = 0, std = 1\")\n",
    "plt.fill_between(x, stats.norm.pdf(x,0), where=[(x > -1.64) and (x < 1.64) for x in x], alpha=0.4)\n"
   ]
  },
  {
   "cell_type": "markdown",
   "id": "08c099cf-c114-468d-87e0-6e43e5521c0a",
   "metadata": {
    "deletable": false,
    "editable": false
   },
   "source": [
    "<hr style=\"border: 5px solid #003262;\" />\n",
    "<hr style=\"border: 1px solid #fdb515;\" />\n",
    "\n",
    "## <span style='color:Red'>  Question 4d (1 point)\n",
    "To verify that 1.64 is in fact the correct cutoff for a 90% confidence interval, use built-in python functions to calculate the shaded area in the plot above.  Assign your answer to the variable `shaded_area`\n",
    "\n",
    "*Hint:* Recall the acronym `cdf` stands for `cumulative distribution function`. It measures the proportion to the left of a specified point under a probability histogram."
   ]
  },
  {
   "cell_type": "code",
   "execution_count": null,
   "id": "4a708629",
   "metadata": {
    "tags": []
   },
   "outputs": [],
   "source": [
    "shaded_area = ...\n",
    "shaded_area\n"
   ]
  },
  {
   "cell_type": "code",
   "execution_count": null,
   "id": "ad4f426c",
   "metadata": {
    "deletable": false,
    "editable": false
   },
   "outputs": [],
   "source": [
    "grader.check(\"q4d\")"
   ]
  },
  {
   "cell_type": "markdown",
   "id": "5d8a54e4",
   "metadata": {},
   "source": [
    "The acronym `ppf` stands for `probability point function`.  It's the inverse of the `cdf`.  \n",
    "\n",
    "Specifically, `ppf(y)` returns the exact point where the probability of everything to the left is equal to y. This can be thought of as the percentile function since the ppf tells us the value of a given percentile of the data.\n",
    "\n",
    "To find the lower SD cut-off for a 90% confidence interval, notice that we want the value on the x-axis of the standard normal distribution such that the area to left is equal to $\\frac{1-.90}{2}$ = 0.05\n",
    "\n",
    "We can find this by running the following code:\n"
   ]
  },
  {
   "cell_type": "code",
   "execution_count": null,
   "id": "5b11ba58",
   "metadata": {},
   "outputs": [],
   "source": [
    "stats.norm.ppf(.05)"
   ]
  },
  {
   "cell_type": "markdown",
   "id": "024a8d6e-020e-4852-968e-da2af44cf899",
   "metadata": {},
   "source": [
    "By symmetry the upper SD cutoff is the opposite of this value:"
   ]
  },
  {
   "cell_type": "code",
   "execution_count": null,
   "id": "e74c514f",
   "metadata": {},
   "outputs": [],
   "source": [
    "-stats.norm.ppf(.05)"
   ]
  },
  {
   "cell_type": "markdown",
   "id": "12d7e6b2",
   "metadata": {
    "deletable": false,
    "editable": false
   },
   "source": [
    "<hr style=\"border: 5px solid #003262;\" />\n",
    "<hr style=\"border: 1px solid #fdb515;\" />\n",
    "\n",
    "## <span style='color:Red'>  Question 4e (2 points)\n",
    "\n",
    "a).  To construct a 99% confidence interval for a parameter, how many SDs do you need to add and subtract to the sample estimate?   Give your answer as a positive value, rounded to the nearest hundredth.  Assign `SD_99` to your answer.  \n",
    "\n",
    "\n",
    "b). Using your rounded answer for `SD_99` from part a, assign `smallest_num_99` to the **integer** (not float) that gives the smallest number of students you should sample to ensure that a **99%** confidence interval for the parameter has a width of no more than $8\\%$ from left end to right end.  \n",
    "\n"
   ]
  },
  {
   "cell_type": "code",
   "execution_count": null,
   "id": "0262e379-8cbb-4486-8a28-f547c2fdf00b",
   "metadata": {
    "tags": []
   },
   "outputs": [],
   "source": [
    "SD_99 = ...\n",
    "SD_99"
   ]
  },
  {
   "cell_type": "code",
   "execution_count": null,
   "id": "bbd57b64",
   "metadata": {
    "tags": []
   },
   "outputs": [],
   "source": [
    "smallest_num_99 = ...\n",
    "smallest_num_99"
   ]
  },
  {
   "cell_type": "code",
   "execution_count": null,
   "id": "22c8d296",
   "metadata": {
    "deletable": false,
    "editable": false
   },
   "outputs": [],
   "source": [
    "grader.check(\"q4e\")"
   ]
  },
  {
   "cell_type": "markdown",
   "id": "c84c93b6-f4d2-486f-9fa7-de4f3d9b3a47",
   "metadata": {},
   "source": [
    "<hr style=\"border: 5px solid #003262;\" />\n",
    "<hr style=\"border: 1px solid #fdb515;\" />\n",
    "\n",
    "[Back to top](#top)\n",
    "\n",
    "<a id='p5'></a>\n",
    "\n",
    "## <span style='color:Red'>  Question 5. Polling and the Normal Distribution"
   ]
  },
  {
   "cell_type": "markdown",
   "id": "62b2cc23-8ab1-42eb-bdc2-e0c12c58065e",
   "metadata": {},
   "source": [
    "Michelle is a statistical consultant, and she works for a group that supports Proposition 68 (which would mandate labeling of all horizontal and vertical axes) called Yes on 68.  They want to know how many Coloradans will vote for the proposition.\n",
    "\n",
    "Michelle polls a uniform random sample of all Colorado voters, and she finds that 210 of the 400 sampled voters will vote in favor of the proposition. We have provided a table for you below which has 3 columns: the first two columns are identical to `sample`. The third column contains the proportion of total voters that chose each option."
   ]
  },
  {
   "cell_type": "code",
   "execution_count": null,
   "id": "e56e6bf3-aa48-40cd-ba69-5f8c3b325768",
   "metadata": {
    "ExecuteTime": {
     "end_time": "2018-03-20T04:34:23.388186Z",
     "start_time": "2018-03-20T04:34:23.372185Z"
    },
    "manual_problem_id": "sample_with_proportions",
    "tags": []
   },
   "outputs": [],
   "source": [
    "sample = pd.DataFrame(data={\"Vote\": [\"Yes\", \"No\"],\"Count\": [210, 190]})\n",
    "\n",
    "sample_size = sum(sample[\"Count\"])\n",
    "sample_with_proportions = sample.copy()\n",
    "sample_with_proportions[\"Proportion\"] = sample_with_proportions[\"Count\"] / sample_size\n",
    "\n",
    "sample_with_proportions"
   ]
  },
  {
   "cell_type": "markdown",
   "id": "c17bd8f7-0f73-4828-875a-dbb96cf14968",
   "metadata": {
    "deletable": false,
    "editable": false
   },
   "source": [
    "<!-- BEGIN QUESTION -->\n",
    "\n",
    "<hr style=\"border: 5px solid #003262;\" />\n",
    "<hr style=\"border: 1px solid #fdb515;\" />\n",
    "\n",
    "## <span style='color:Red'>  Question 5a (6 points)\n",
    "Michelle wants to use 10,000 bootstrap resamples to compute a confidence interval for the proportion of all Colorado voters who will vote Yes.  \n",
    "\n",
    "\n",
    "i). Use bootstrap resampling to simulate 10,000 election outcomes, and assign the np.array `resample_yes_proportions` to contain the Yes proportion of each bootstrap resample.   \n",
    "\n",
    "ii). Calculate the 95% bootstrapped confidence interval for the Yes proportion.\n",
    "\n",
    "\n",
    "iii).  Then, plot a density histogram of `resample_yes_proportions`.  **Use 20 bins.**  Include a title and label both axes.  **You should see a bell shaped curve centered near the proportion of Yes in the original sample.**   We have provided code that overlays your confidence interval at the bottom of your histogram. \n"
   ]
  },
  {
   "cell_type": "code",
   "execution_count": null,
   "id": "d57bd93b-dda0-483f-a6db-f5c57f084869",
   "metadata": {
    "ExecuteTime": {
     "end_time": "2018-03-20T04:35:22.190065Z",
     "start_time": "2018-03-20T04:35:21.777769Z"
    },
    "manual_problem_id": "resample_yes_proportions",
    "tags": []
   },
   "outputs": [],
   "source": [
    "...\n",
    "# Your code to simulate empirical distribution above this line\n",
    "resample_yes_proportions;"
   ]
  },
  {
   "cell_type": "code",
   "execution_count": null,
   "id": "a031fd8b",
   "metadata": {
    "tags": []
   },
   "outputs": [],
   "source": [
    "CI_lower = ...\n",
    "CI_upper = ...\n",
    "[CI_lower,CI_upper]"
   ]
  },
  {
   "cell_type": "code",
   "execution_count": null,
   "id": "2888dbdb",
   "metadata": {
    "tags": []
   },
   "outputs": [],
   "source": [
    "...\n",
    "# Your code to plot histogram above this line\n",
    "\n",
    "plt.plot(np.array([CI_lower, CI_upper]), np.array([0, 0]), c='m', lw=10)"
   ]
  },
  {
   "cell_type": "code",
   "execution_count": null,
   "id": "109de02c",
   "metadata": {
    "deletable": false,
    "editable": false
   },
   "outputs": [],
   "source": [
    "grader.check(\"q5a\")"
   ]
  },
  {
   "cell_type": "markdown",
   "id": "26a68453-0360-478e-baab-aedb1c492995",
   "metadata": {
    "deletable": false,
    "editable": false
   },
   "source": [
    "<!-- END QUESTION -->\n",
    "\n",
    "<!-- BEGIN QUESTION -->\n",
    "\n",
    "<hr style=\"border: 5px solid #003262;\" />\n",
    "<hr style=\"border: 1px solid #fdb515;\" />\n",
    "\n",
    "## <span style='color:Red'>  Question 5b (5 points)\n",
    "\n",
    "\n",
    "i).  Why does the Central Limit Theorem (CLT) apply in this situation, and how does it explain the distribution we see above? \n",
    "\n",
    "\n",
    "ii). Prove the following:  In a population whose members are 0 or 1, the **standard deviation** of that population is:\n",
    "\n",
    "\n",
    "$$\\text{standard deviation of population} = \\sqrt{(\\text{proportion of 0s}) \\times (\\text{proportion of 1s})}$$\n",
    "\n",
    "\n",
    "Note, when proving the statement above, if this is the standard deviation of a commonly used distribution, **you can't just cite that as your answer - instead you need mathematically show all steps to calculate the standard deviation using the definition of standard deviation**.   You must use LaTeX and math to fully prove the statement above.    Write up your answers to both parts in the same Markdown cell below:"
   ]
  },
  {
   "cell_type": "markdown",
   "id": "4637da65",
   "metadata": {},
   "source": [
    "_Type your answer here, replacing this text._"
   ]
  },
  {
   "cell_type": "markdown",
   "id": "a3d58dec-cab8-46d8-87fe-bd8f005c4419",
   "metadata": {
    "deletable": false,
    "editable": false
   },
   "source": [
    "<!-- END QUESTION -->\n",
    "\n",
    "<hr style=\"border: 5px solid #003262;\" />\n",
    "<hr style=\"border: 1px solid #fdb515;\" />\n",
    "\n",
    "## <span style='color:Red'>  Question 5c (1 point)\n",
    "    \n",
    "In the following few questions we're going to walk through the steps to calculate our confidence interval using the Central Limit Theorem (and then we'll compare to the bootstrapped confidence interval we found in 5a)\n",
    "\n",
    "Using only the Central Limit Theorem and the numbers of Yes and No voters in our sample of 400, *algebraically* compute the predicted standard deviation of the `resample_yes_proportions` array. Assign this number to `approximate_sd`. **Do not access the data in `resample_yes_proportions` in any way.** \n",
    "\n",
    "Remember that the standard deviation of the sample means can be computed from the population SD and the size of the sample (the formula above might be helpful). If we do not know the population SD, we can use the sample SD as a reasonable approximation in its place. [This section](https://inferentialthinking.com/chapters/14/5/Variability_of_the_Sample_Mean.html#the-sd-of-all-the-sample-means) of the textbook also may be helpful.\n"
   ]
  },
  {
   "cell_type": "code",
   "execution_count": null,
   "id": "c52c3e7a-0b06-4085-868b-baadaf724eb5",
   "metadata": {
    "ExecuteTime": {
     "end_time": "2018-03-20T04:35:33.660846Z",
     "start_time": "2018-03-20T04:35:33.652810Z"
    },
    "manual_problem_id": "approximate_sd",
    "tags": []
   },
   "outputs": [],
   "source": [
    "approx_pop_sd = ...\n",
    "approximate_sd = ...\n",
    "approximate_sd"
   ]
  },
  {
   "cell_type": "code",
   "execution_count": null,
   "id": "216065a6",
   "metadata": {
    "deletable": false,
    "editable": false
   },
   "outputs": [],
   "source": [
    "grader.check(\"q5c\")"
   ]
  },
  {
   "cell_type": "markdown",
   "id": "188eb98b-c3b8-4ace-81bf-c5396396b7a6",
   "metadata": {
    "deletable": false,
    "editable": false
   },
   "source": [
    "<hr style=\"border: 5px solid #003262;\" />\n",
    "<hr style=\"border: 1px solid #fdb515;\" />\n",
    "\n",
    "## <span style='color:Red'>  Question 5d (2 points)\n",
    "Compute the standard deviation of the array `resample_yes_proportions`, which will act as an approximation to the true SD of the possible sample proportions. This will help verify whether your answer to question 5c is approximately correct.\n"
   ]
  },
  {
   "cell_type": "code",
   "execution_count": null,
   "id": "463fad2d-1066-4342-9908-9f4fa80e24e1",
   "metadata": {
    "ExecuteTime": {
     "end_time": "2018-03-20T04:35:34.753988Z",
     "start_time": "2018-03-20T04:35:34.745953Z"
    },
    "manual_problem_id": "exact_sd",
    "tags": []
   },
   "outputs": [],
   "source": [
    "exact_sd = ...\n",
    "exact_sd"
   ]
  },
  {
   "cell_type": "code",
   "execution_count": null,
   "id": "9737b430",
   "metadata": {
    "deletable": false,
    "editable": false
   },
   "outputs": [],
   "source": [
    "grader.check(\"q5d\")"
   ]
  },
  {
   "cell_type": "markdown",
   "id": "5348d53e-79db-4c1e-b125-2975212c04ef",
   "metadata": {
    "deletable": false,
    "editable": false
   },
   "source": [
    "<hr style=\"border: 5px solid #003262;\" />\n",
    "<hr style=\"border: 1px solid #fdb515;\" />\n",
    "\n",
    "## <span style='color:Red'>  Question 5e (2 points)\n",
    "**Again, without accessing `resample_yes_proportions` in any way**, use the Central Limit Theorem to compute an approximate 95% confidence interval for the proportion of Yes voters in California. \n",
    "\n",
    "Compare your answer to the bootstrapped confidence interval you found in Question 5a.\n",
    "\n",
    "The cell below draws your interval as a red bar below the histogram of `resample_yes_proportions`; use that to verify that your answer looks right.\n",
    "\n",
    "*Hint:* How many SDs corresponds to 95% of the distribution promised by the CLT? Recall the discussion in the textbook [here](https://inferentialthinking.com/chapters/14/3/SD_and_the_Normal_Curve.html).\n",
    "\n",
    "*Hint:* The `approximate_sd` variable you previously defined may be helpful!\n"
   ]
  },
  {
   "cell_type": "code",
   "execution_count": null,
   "id": "b5676368-53e4-4036-bbb1-39cf862e38b9",
   "metadata": {
    "ExecuteTime": {
     "end_time": "2018-03-20T04:35:42.572582Z",
     "start_time": "2018-03-20T04:35:42.560545Z"
    },
    "manual_problem_id": "ci_without_data",
    "tags": []
   },
   "outputs": [],
   "source": [
    "lower_limit = ...\n",
    "upper_limit = ...\n",
    "print('lower:', lower_limit, 'upper:', upper_limit)"
   ]
  },
  {
   "cell_type": "code",
   "execution_count": null,
   "id": "f3c88910",
   "metadata": {
    "deletable": false,
    "editable": false
   },
   "outputs": [],
   "source": [
    "grader.check(\"q5e\")"
   ]
  },
  {
   "cell_type": "code",
   "execution_count": null,
   "id": "aae61b4a-499c-4d57-8459-81baa88a846b",
   "metadata": {},
   "outputs": [],
   "source": [
    "resample_yes_proportions_hist = plt.hist(resample_yes_proportions, edgecolor=\"white\", bins=np.arange(.2,.8,.01))\n",
    "plt.plot(np.array([lower_limit, upper_limit]), np.array([0, 0]), c='r', lw=10)"
   ]
  },
  {
   "cell_type": "markdown",
   "id": "51121b76-1e54-46f3-9ecf-b676014012e0",
   "metadata": {},
   "source": [
    "Your confidence interval should overlap the number 0.5.  That means we can't be very sure whether Proposition 68 is winning, even though the sample Yes proportion is a bit above 0.5.\n",
    "\n",
    "The Yes on 68 campaign really needs to know whether they're winning.  It's impossible to be absolutely sure without polling the whole population, but they'd be okay if the standard deviation of the sample mean (i.e. the Standard Error) was only 0.005.  They ask Michelle to run a new poll with a sample size that's large enough to achieve that.  (Polling is expensive, so the sample also shouldn't be bigger than necessary.)\n",
    "\n",
    "Michelle consults Chapter 14 of your textbook.  Instead of making the conservative assumption that the population standard deviation is 0.5 (coding Yes voters as 1 and No voters as 0), she decides to assume that it's equal to the standard deviation of the sample,\n",
    "\n",
    "$$\\sqrt{(\\text{Yes proportion in the sample}) \\times (\\text{No proportion in the sample})}.$$\n",
    "\n",
    "Under that assumption, Michelle decides that a sample of 9,975 would suffice."
   ]
  },
  {
   "cell_type": "markdown",
   "id": "4db34d79-f97e-4808-9ecb-9ac9edb5bb86",
   "metadata": {
    "deletable": false,
    "editable": false
   },
   "source": [
    "<hr style=\"border: 5px solid #003262;\" />\n",
    "<hr style=\"border: 1px solid #fdb515;\" />\n",
    "\n",
    "## <span style='color:Red'>  Question 5f (1 point)\n",
    "Does Michelle's sample size achieve the desired Standard Error (SE)? What SE would you achieve with a smaller sample size? A higher sample size?\n",
    "\n",
    "To explore this, first compute the SD of sample means (i.e. the Standard Error) obtained by using Michelle's sample size.\n"
   ]
  },
  {
   "cell_type": "code",
   "execution_count": null,
   "id": "b4792b8d-4829-4459-b0b8-a056c38c7ad6",
   "metadata": {
    "ExecuteTime": {
     "end_time": "2018-03-20T04:35:45.882794Z",
     "start_time": "2018-03-20T04:35:45.870760Z"
    },
    "manual_problem_id": "michelle_sample_mean_sd",
    "scrolled": true,
    "tags": []
   },
   "outputs": [],
   "source": [
    "estimated_population_sd = ...\n",
    "michelle_sample_size = ...\n",
    "michelle_sample_mean_se = ...\n",
    "print(\"With Michelle's sample size, you would predict a standard error of %f.\" % michelle_sample_mean_se)"
   ]
  },
  {
   "cell_type": "code",
   "execution_count": null,
   "id": "c07c4d7e",
   "metadata": {
    "deletable": false,
    "editable": false
   },
   "outputs": [],
   "source": [
    "grader.check(\"q5f\")"
   ]
  },
  {
   "cell_type": "markdown",
   "id": "bf883950-8db3-4b57-8a91-7f6efdc7bde8",
   "metadata": {
    "deletable": false,
    "editable": false
   },
   "source": [
    "<hr style=\"border: 5px solid #003262;\" />\n",
    "<hr style=\"border: 1px solid #fdb515;\" />\n",
    "\n",
    "## <span style='color:Red'>  Question 5g (1 point)\n",
    "Next, compute the standard error that you would get from a smaller sample size. Ideally, you should pick a number that is significantly smaller, but any sample size smaller than Michelle's will do. \n"
   ]
  },
  {
   "cell_type": "code",
   "execution_count": null,
   "id": "9af019e6-ab2d-4b1d-97ca-b3c7c416c105",
   "metadata": {
    "ExecuteTime": {
     "end_time": "2018-03-20T04:35:47.010246Z",
     "start_time": "2018-03-20T04:35:47.002724Z"
    },
    "manual_problem_id": "smaller_sample_size",
    "tags": []
   },
   "outputs": [],
   "source": [
    "smaller_sample_size = ...\n",
    "smaller_sample_mean_se = ...\n",
    "print(\"With this smaller sample size, you would predict a sample mean SD of %f\" % smaller_sample_mean_se)"
   ]
  },
  {
   "cell_type": "code",
   "execution_count": null,
   "id": "7eb2049c",
   "metadata": {
    "deletable": false,
    "editable": false
   },
   "outputs": [],
   "source": [
    "grader.check(\"q5g\")"
   ]
  },
  {
   "cell_type": "markdown",
   "id": "9397686e-b060-447a-bf53-65c4efea5678",
   "metadata": {
    "deletable": false,
    "editable": false
   },
   "source": [
    "<hr style=\"border: 5px solid #003262;\" />\n",
    "<hr style=\"border: 1px solid #fdb515;\" />\n",
    "\n",
    "## <span style='color:Red'>  Question 5h (1 point)\n",
    "Finally, compute the Standard Error that you would get from a larger sample size. Here, a number that is significantly larger would make any difference more obvious, but any sample size larger than Michelle's will do. \n"
   ]
  },
  {
   "cell_type": "code",
   "execution_count": null,
   "id": "a1147b58-7205-44a0-9633-46b42d340532",
   "metadata": {
    "ExecuteTime": {
     "end_time": "2018-03-20T04:35:48.098047Z",
     "start_time": "2018-03-20T04:35:48.089414Z"
    },
    "manual_problem_id": "larger_sample_mean_sd",
    "tags": []
   },
   "outputs": [],
   "source": [
    "larger_sample_size = ...\n",
    "larger_sample_mean_se = ...\n",
    "print(\"With this larger sample size, you would predict a sample mean SD of %f\" % larger_sample_mean_se)"
   ]
  },
  {
   "cell_type": "code",
   "execution_count": null,
   "id": "1429398b",
   "metadata": {
    "deletable": false,
    "editable": false
   },
   "outputs": [],
   "source": [
    "grader.check(\"q5h\")"
   ]
  },
  {
   "cell_type": "markdown",
   "id": "a95b1b9b-472b-4c05-a14d-83d13fcc874e",
   "metadata": {
    "deletable": false,
    "editable": false
   },
   "source": [
    "<hr style=\"border: 5px solid #003262;\" />\n",
    "<hr style=\"border: 1px solid #fdb515;\" />\n",
    "\n",
    "## <span style='color:Red'>  Question 5i (1 point)\n",
    "Based off of this, was Michelle's sample size approximately the minimum sufficient sample, given her assumption that the sample SD is the same as the population SD? Assign `min_sufficient` to `True` if 9,975 was indeed approximately the minimum sufficient sample, and `False` if it wasn't. \n"
   ]
  },
  {
   "cell_type": "code",
   "execution_count": null,
   "id": "e3c2e915-f700-4ba9-8b60-9f0a076e3bcd",
   "metadata": {
    "ExecuteTime": {
     "end_time": "2018-03-20T04:35:49.134092Z",
     "start_time": "2018-03-20T04:35:49.126066Z"
    },
    "manual_problem_id": "min_sufficient",
    "tags": []
   },
   "outputs": [],
   "source": [
    "min_sufficient = ...\n",
    "min_sufficient"
   ]
  },
  {
   "cell_type": "code",
   "execution_count": null,
   "id": "b2fed7dd",
   "metadata": {
    "deletable": false,
    "editable": false
   },
   "outputs": [],
   "source": [
    "grader.check(\"q5i\")"
   ]
  },
  {
   "cell_type": "markdown",
   "id": "169d7663",
   "metadata": {},
   "source": [
    "<br/><br/>\n",
    "<hr style=\"border: 5px solid #003262;\" />\n",
    "<hr style=\"border: 1px solid #fdb515;\" />\n",
    "\n",
    "## Congratulations! You have finished Homework 9!"
   ]
  },
  {
   "cell_type": "markdown",
   "id": "c34ec54f-7b0b-446d-84d3-7735061c7620",
   "metadata": {},
   "source": [
    "If you discussed this assignment with any other students in the class (in a manner that is acceptable as described by the Collaboration policy above) please **include their names** here:\n",
    "\n",
    "**Collaborators**: *list collaborators here*\n",
    "\n",
    "If while completing this assignment you reference any websites other than those linked in this assignment or provided on Canvas please list those references here:\n",
    "\n",
    "**External references**:  *list any websites you referenced*"
   ]
  },
  {
   "cell_type": "markdown",
   "id": "46739932",
   "metadata": {},
   "source": [
    "### Submission Instructions\n",
    "\n",
    "\n",
    "\n",
    "Before proceeding any further, **save this notebook.**\n",
    "\n",
    "After running the `grader.export()` cell provided below, **2 files will be created**: a zip file and pdf file.  You can download them using the links provided below OR by finding them in the same folder where this juptyer notebook resides in your JuptyerHub.\n",
    "\n",
    "To receive credit on this assignment, **you must submit BOTH of these files\n",
    "to their respective Gradescope portals:** \n",
    "\n",
    "* **Homework 9 Autograded**: Submit the zip file that is output by the `grader.export()` cell below to the HW 9 Autograded assignment in Gradescope.\n",
    "\n",
    "* **Homework 9 Manually Graded**: Submit your hw09.PDF to the HW9 Manually Graded assignment in Gradescope.  **YOU MUST SELECT THE PAGES CORRESPONDING TO EACH QUESTION WHEN YOU UPLOAD TO GRADESCOPE.  IF NOT, YOU WILL LOSE POINTS**   Also, **check** that all of your plots **and** all lines of your code are showing up in your PDF before submitting.  If not, you will not receive credit for your plots/code.  \n",
    "\n",
    "\n",
    "**You are responsible for ensuring your submission follows our requirements. We will not be granting regrade requests nor extensions to submissions that don't follow instructions.** If you encounter any difficulties with submission, please don't hesitate to reach out to staff prior to the deadline."
   ]
  },
  {
   "cell_type": "code",
   "execution_count": null,
   "id": "6157c108-8e94-408d-ae22-0ca43e3eff3f",
   "metadata": {},
   "outputs": [],
   "source": [
    "import simple_latex_checker as slc\n",
    "\n",
    "nb = slc.Nb_checker()\n",
    "nb.run_check(\"hw09.ipynb\")"
   ]
  },
  {
   "cell_type": "markdown",
   "id": "540e3ca4",
   "metadata": {
    "deletable": false,
    "editable": false
   },
   "source": [
    "## Submission\n",
    "\n",
    "Make sure you have run all cells in your notebook in order before running the cell below, so that all images/graphs appear in the output. The cell below will generate a zip file for you to submit. **Please save before exporting!**\n",
    "\n",
    "AFTER running the cell below, click on <a href='hw09.pdf' download>this link to download the PDF </a> to upload to Gradescope.  There will be a separate link that appears after running the cell below with a link to download the zip file to upload to Gradescope."
   ]
  },
  {
   "cell_type": "code",
   "execution_count": 2,
   "id": "46cf89f4",
   "metadata": {
    "deletable": false,
    "editable": false
   },
   "outputs": [
    {
     "name": "stdout",
     "output_type": "stream",
     "text": [
      "Running your submission against local test cases...\n",
      "\n",
      "\n",
      "Your submission received the following results when run against available test cases:\n",
      "\n",
      "    q2a results:\n",
      "        q2a - 1 result:\n",
      "            ❌ Test case failed\n",
      "            Trying:\n",
      "                assert type(one_resampled_percentage(votes)) in set([float, np.float64])\n",
      "            Expecting nothing\n",
      "            **********************************************************************\n",
      "            Line 1, in q2a 0\n",
      "            Failed example:\n",
      "                assert type(one_resampled_percentage(votes)) in set([float, np.float64])\n",
      "            Exception raised:\n",
      "                Traceback (most recent call last):\n",
      "                  File \"/opt/conda/lib/python3.10/doctest.py\", line 1350, in __run\n",
      "                    exec(compile(example.source, filename, \"single\",\n",
      "                  File \"<doctest q2a 0[0]>\", line 1, in <module>\n",
      "                    assert type(one_resampled_percentage(votes)) in set([float, np.float64])\n",
      "                AssertionError\n",
      "\n",
      "        q2a - 2 result:\n",
      "            ❌ Test case failed\n",
      "            Trying:\n",
      "                assert one_resampled_percentage(votes) > 0\n",
      "            Expecting nothing\n",
      "            **********************************************************************\n",
      "            Line 1, in q2a 1\n",
      "            Failed example:\n",
      "                assert one_resampled_percentage(votes) > 0\n",
      "            Exception raised:\n",
      "                Traceback (most recent call last):\n",
      "                  File \"/opt/conda/lib/python3.10/doctest.py\", line 1350, in __run\n",
      "                    exec(compile(example.source, filename, \"single\",\n",
      "                  File \"<doctest q2a 1[0]>\", line 1, in <module>\n",
      "                    assert one_resampled_percentage(votes) > 0\n",
      "                TypeError: '>' not supported between instances of 'NoneType' and 'int'\n",
      "\n",
      "        q2a - 3 result:\n",
      "            ❌ Test case failed\n",
      "            Trying:\n",
      "                assert 35 <= one_resampled_percentage(votes) <= 65\n",
      "            Expecting nothing\n",
      "            **********************************************************************\n",
      "            Line 1, in q2a 2\n",
      "            Failed example:\n",
      "                assert 35 <= one_resampled_percentage(votes) <= 65\n",
      "            Exception raised:\n",
      "                Traceback (most recent call last):\n",
      "                  File \"/opt/conda/lib/python3.10/doctest.py\", line 1350, in __run\n",
      "                    exec(compile(example.source, filename, \"single\",\n",
      "                  File \"<doctest q2a 2[0]>\", line 1, in <module>\n",
      "                    assert 35 <= one_resampled_percentage(votes) <= 65\n",
      "                TypeError: '<=' not supported between instances of 'int' and 'NoneType'\n",
      "\n",
      "        q2a - 4 result:\n",
      "            ❌ Test case failed\n",
      "            Trying:\n",
      "                np.random.seed(123)\n",
      "            Expecting nothing\n",
      "            ok\n",
      "            Trying:\n",
      "                assert np.isclose(one_resampled_percentage(votes), 52.400000000000006)\n",
      "            Expecting nothing\n",
      "            **********************************************************************\n",
      "            Line 2, in q2a 3\n",
      "            Failed example:\n",
      "                assert np.isclose(one_resampled_percentage(votes), 52.400000000000006)\n",
      "            Exception raised:\n",
      "                Traceback (most recent call last):\n",
      "                  File \"/opt/conda/lib/python3.10/doctest.py\", line 1350, in __run\n",
      "                    exec(compile(example.source, filename, \"single\",\n",
      "                  File \"<doctest q2a 3[1]>\", line 1, in <module>\n",
      "                    assert np.isclose(one_resampled_percentage(votes), 52.400000000000006)\n",
      "                  File \"<__array_function__ internals>\", line 200, in isclose\n",
      "                  File \"/opt/conda/lib/python3.10/site-packages/numpy/core/numeric.py\", line 2377, in isclose\n",
      "                    xfin = isfinite(x)\n",
      "                TypeError: ufunc 'isfinite' not supported for the input types, and the inputs could not be safely coerced to any supported types according to the casting rule ''safe''\n",
      "\n",
      "    q2b results:\n",
      "        q2b - 1 result:\n",
      "            ❌ Test case failed\n",
      "            Trying:\n",
      "                assert get_hash(len(resampled_percentages)) == '70f44538106c52ad2a01ffba924792e2'\n",
      "            Expecting nothing\n",
      "            **********************************************************************\n",
      "            Line 1, in q2b 0\n",
      "            Failed example:\n",
      "                assert get_hash(len(resampled_percentages)) == '70f44538106c52ad2a01ffba924792e2'\n",
      "            Exception raised:\n",
      "                Traceback (most recent call last):\n",
      "                  File \"/opt/conda/lib/python3.10/doctest.py\", line 1350, in __run\n",
      "                    exec(compile(example.source, filename, \"single\",\n",
      "                  File \"<doctest q2b 0[0]>\", line 1, in <module>\n",
      "                    assert get_hash(len(resampled_percentages)) == '70f44538106c52ad2a01ffba924792e2'\n",
      "                NameError: name 'resampled_percentages' is not defined\n",
      "\n",
      "        q2b - 2 result:\n",
      "            ❌ Test case failed\n",
      "            Trying:\n",
      "                np.random.seed(123)\n",
      "            Expecting nothing\n",
      "            ok\n",
      "            Trying:\n",
      "                assert np.isclose(percentages_in_resamples(2000).item(0), 52.400000000000006)\n",
      "            Expecting nothing\n",
      "            **********************************************************************\n",
      "            Line 2, in q2b 1\n",
      "            Failed example:\n",
      "                assert np.isclose(percentages_in_resamples(2000).item(0), 52.400000000000006)\n",
      "            Exception raised:\n",
      "                Traceback (most recent call last):\n",
      "                  File \"/opt/conda/lib/python3.10/doctest.py\", line 1350, in __run\n",
      "                    exec(compile(example.source, filename, \"single\",\n",
      "                  File \"<doctest q2b 1[1]>\", line 1, in <module>\n",
      "                    assert np.isclose(percentages_in_resamples(2000).item(0), 52.400000000000006)\n",
      "                AttributeError: 'NoneType' object has no attribute 'item'\n",
      "\n",
      "        q2b - 3 result:\n",
      "            ❌ Test case failed\n",
      "            Trying:\n",
      "                np.random.seed(123)\n",
      "            Expecting nothing\n",
      "            ok\n",
      "            Trying:\n",
      "                assert np.isclose(percentages_in_resamples(2000).item(10), 51.33333333333333)\n",
      "            Expecting nothing\n",
      "            **********************************************************************\n",
      "            Line 2, in q2b 2\n",
      "            Failed example:\n",
      "                assert np.isclose(percentages_in_resamples(2000).item(10), 51.33333333333333)\n",
      "            Exception raised:\n",
      "                Traceback (most recent call last):\n",
      "                  File \"/opt/conda/lib/python3.10/doctest.py\", line 1350, in __run\n",
      "                    exec(compile(example.source, filename, \"single\",\n",
      "                  File \"<doctest q2b 2[1]>\", line 1, in <module>\n",
      "                    assert np.isclose(percentages_in_resamples(2000).item(10), 51.33333333333333)\n",
      "                AttributeError: 'NoneType' object has no attribute 'item'\n",
      "\n",
      "    q2c results:\n",
      "        q2c - 1 result:\n",
      "            ❌ Test case failed\n",
      "            Trying:\n",
      "                assert all([khow_lower_bound == np.percentile(resampled_percentages, 2.5), khow_upper_bound == np.percentile(resampled_percentages, 97.5)])\n",
      "            Expecting nothing\n",
      "            **********************************************************************\n",
      "            Line 1, in q2c 0\n",
      "            Failed example:\n",
      "                assert all([khow_lower_bound == np.percentile(resampled_percentages, 2.5), khow_upper_bound == np.percentile(resampled_percentages, 97.5)])\n",
      "            Exception raised:\n",
      "                Traceback (most recent call last):\n",
      "                  File \"/opt/conda/lib/python3.10/doctest.py\", line 1350, in __run\n",
      "                    exec(compile(example.source, filename, \"single\",\n",
      "                  File \"<doctest q2c 0[0]>\", line 1, in <module>\n",
      "                    assert all([khow_lower_bound == np.percentile(resampled_percentages, 2.5), khow_upper_bound == np.percentile(resampled_percentages, 97.5)])\n",
      "                NameError: name 'resampled_percentages' is not defined\n",
      "\n",
      "    q3b results:\n",
      "        q3b - 1 result:\n",
      "            ❌ Test case failed\n",
      "            Trying:\n",
      "                assert get_hash(int(true_percentage_intervals)) == '84f5ddd735176becc72c3b1ff424149e'\n",
      "            Expecting nothing\n",
      "            **********************************************************************\n",
      "            Line 1, in q3b 0\n",
      "            Failed example:\n",
      "                assert get_hash(int(true_percentage_intervals)) == '84f5ddd735176becc72c3b1ff424149e'\n",
      "            Exception raised:\n",
      "                Traceback (most recent call last):\n",
      "                  File \"/opt/conda/lib/python3.10/doctest.py\", line 1350, in __run\n",
      "                    exec(compile(example.source, filename, \"single\",\n",
      "                  File \"<doctest q3b 0[0]>\", line 1, in <module>\n",
      "                    assert get_hash(int(true_percentage_intervals)) == '84f5ddd735176becc72c3b1ff424149e'\n",
      "                TypeError: int() argument must be a string, a bytes-like object or a real number, not 'ellipsis'\n",
      "\n",
      "    q3c results:\n",
      "        q3c - 1 result:\n",
      "            ❌ Test case failed\n",
      "            Trying:\n",
      "                assert 1 <= cutoff_five_percent <= 3\n",
      "            Expecting nothing\n",
      "            **********************************************************************\n",
      "            Line 1, in q3c 0\n",
      "            Failed example:\n",
      "                assert 1 <= cutoff_five_percent <= 3\n",
      "            Exception raised:\n",
      "                Traceback (most recent call last):\n",
      "                  File \"/opt/conda/lib/python3.10/doctest.py\", line 1350, in __run\n",
      "                    exec(compile(example.source, filename, \"single\",\n",
      "                  File \"<doctest q3c 0[0]>\", line 1, in <module>\n",
      "                    assert 1 <= cutoff_five_percent <= 3\n",
      "                TypeError: '<=' not supported between instances of 'int' and 'ellipsis'\n",
      "\n",
      "        q3c - 2 result:\n",
      "            ❌ Test case failed\n",
      "            Trying:\n",
      "                assert get_hash(cutoff_five_percent) == 'c4ca4238a0b923820dcc509a6f75849b'\n",
      "            Expecting nothing\n",
      "            **********************************************************************\n",
      "            Line 1, in q3c 1\n",
      "            Failed example:\n",
      "                assert get_hash(cutoff_five_percent) == 'c4ca4238a0b923820dcc509a6f75849b'\n",
      "            Exception raised:\n",
      "                Traceback (most recent call last):\n",
      "                  File \"/opt/conda/lib/python3.10/doctest.py\", line 1350, in __run\n",
      "                    exec(compile(example.source, filename, \"single\",\n",
      "                  File \"<doctest q3c 1[0]>\", line 1, in <module>\n",
      "                    assert get_hash(cutoff_five_percent) == 'c4ca4238a0b923820dcc509a6f75849b'\n",
      "                AssertionError\n",
      "\n",
      "    q3d results:\n",
      "        q3d - 1 result:\n",
      "            ❌ Test case failed\n",
      "            Trying:\n",
      "                assert 1 <= cutoff_one_percent <= 3\n",
      "            Expecting nothing\n",
      "            **********************************************************************\n",
      "            Line 1, in q3d 0\n",
      "            Failed example:\n",
      "                assert 1 <= cutoff_one_percent <= 3\n",
      "            Exception raised:\n",
      "                Traceback (most recent call last):\n",
      "                  File \"/opt/conda/lib/python3.10/doctest.py\", line 1350, in __run\n",
      "                    exec(compile(example.source, filename, \"single\",\n",
      "                  File \"<doctest q3d 0[0]>\", line 1, in <module>\n",
      "                    assert 1 <= cutoff_one_percent <= 3\n",
      "                TypeError: '<=' not supported between instances of 'int' and 'ellipsis'\n",
      "\n",
      "        q3d - 2 result:\n",
      "            ❌ Test case failed\n",
      "            Trying:\n",
      "                assert get_hash(cutoff_one_percent) == 'eccbc87e4b5ce2fe28308fd9f2a7baf3'\n",
      "            Expecting nothing\n",
      "            **********************************************************************\n",
      "            Line 1, in q3d 1\n",
      "            Failed example:\n",
      "                assert get_hash(cutoff_one_percent) == 'eccbc87e4b5ce2fe28308fd9f2a7baf3'\n",
      "            Exception raised:\n",
      "                Traceback (most recent call last):\n",
      "                  File \"/opt/conda/lib/python3.10/doctest.py\", line 1350, in __run\n",
      "                    exec(compile(example.source, filename, \"single\",\n",
      "                  File \"<doctest q3d 1[0]>\", line 1, in <module>\n",
      "                    assert get_hash(cutoff_one_percent) == 'eccbc87e4b5ce2fe28308fd9f2a7baf3'\n",
      "                AssertionError\n",
      "\n",
      "    q3e results:\n",
      "        q3e - 1 result:\n",
      "            ❌ Test case failed\n",
      "            Trying:\n",
      "                assert 1 <= cutoff_ten_percent <= 3\n",
      "            Expecting nothing\n",
      "            **********************************************************************\n",
      "            Line 1, in q3e 0\n",
      "            Failed example:\n",
      "                assert 1 <= cutoff_ten_percent <= 3\n",
      "            Exception raised:\n",
      "                Traceback (most recent call last):\n",
      "                  File \"/opt/conda/lib/python3.10/doctest.py\", line 1350, in __run\n",
      "                    exec(compile(example.source, filename, \"single\",\n",
      "                  File \"<doctest q3e 0[0]>\", line 1, in <module>\n",
      "                    assert 1 <= cutoff_ten_percent <= 3\n",
      "                TypeError: '<=' not supported between instances of 'int' and 'ellipsis'\n",
      "\n",
      "        q3e - 2 result:\n",
      "            ❌ Test case failed\n",
      "            Trying:\n",
      "                assert get_hash(cutoff_ten_percent) == 'c4ca4238a0b923820dcc509a6f75849b'\n",
      "            Expecting nothing\n",
      "            **********************************************************************\n",
      "            Line 1, in q3e 1\n",
      "            Failed example:\n",
      "                assert get_hash(cutoff_ten_percent) == 'c4ca4238a0b923820dcc509a6f75849b'\n",
      "            Exception raised:\n",
      "                Traceback (most recent call last):\n",
      "                  File \"/opt/conda/lib/python3.10/doctest.py\", line 1350, in __run\n",
      "                    exec(compile(example.source, filename, \"single\",\n",
      "                  File \"<doctest q3e 1[0]>\", line 1, in <module>\n",
      "                    assert get_hash(cutoff_ten_percent) == 'c4ca4238a0b923820dcc509a6f75849b'\n",
      "                AssertionError\n",
      "\n",
      "    q4a results:\n",
      "        q4a - 1 result:\n",
      "            ❌ Test case failed\n",
      "            Trying:\n",
      "                assert get_hash(smallest) == '233509073ed3432027d48b1a83f5fbd2'\n",
      "            Expecting nothing\n",
      "            **********************************************************************\n",
      "            Line 1, in q4a 0\n",
      "            Failed example:\n",
      "                assert get_hash(smallest) == '233509073ed3432027d48b1a83f5fbd2'\n",
      "            Exception raised:\n",
      "                Traceback (most recent call last):\n",
      "                  File \"/opt/conda/lib/python3.10/doctest.py\", line 1350, in __run\n",
      "                    exec(compile(example.source, filename, \"single\",\n",
      "                  File \"<doctest q4a 0[0]>\", line 1, in <module>\n",
      "                    assert get_hash(smallest) == '233509073ed3432027d48b1a83f5fbd2'\n",
      "                AssertionError\n",
      "\n",
      "    q4b results:\n",
      "        q4b - 1 result:\n",
      "            ❌ Test case failed\n",
      "            Trying:\n",
      "                assert 1 <= sample_90 <= 3\n",
      "            Expecting nothing\n",
      "            **********************************************************************\n",
      "            Line 1, in q4b 0\n",
      "            Failed example:\n",
      "                assert 1 <= sample_90 <= 3\n",
      "            Exception raised:\n",
      "                Traceback (most recent call last):\n",
      "                  File \"/opt/conda/lib/python3.10/doctest.py\", line 1350, in __run\n",
      "                    exec(compile(example.source, filename, \"single\",\n",
      "                  File \"<doctest q4b 0[0]>\", line 1, in <module>\n",
      "                    assert 1 <= sample_90 <= 3\n",
      "                TypeError: '<=' not supported between instances of 'int' and 'ellipsis'\n",
      "\n",
      "        q4b - 2 result:\n",
      "            ❌ Test case failed\n",
      "            Trying:\n",
      "                assert get_hash(sample_90) == 'c81e728d9d4c2f636f067f89cc14862c'\n",
      "            Expecting nothing\n",
      "            **********************************************************************\n",
      "            Line 1, in q4b 1\n",
      "            Failed example:\n",
      "                assert get_hash(sample_90) == 'c81e728d9d4c2f636f067f89cc14862c'\n",
      "            Exception raised:\n",
      "                Traceback (most recent call last):\n",
      "                  File \"/opt/conda/lib/python3.10/doctest.py\", line 1350, in __run\n",
      "                    exec(compile(example.source, filename, \"single\",\n",
      "                  File \"<doctest q4b 1[0]>\", line 1, in <module>\n",
      "                    assert get_hash(sample_90) == 'c81e728d9d4c2f636f067f89cc14862c'\n",
      "                AssertionError\n",
      "\n",
      "    q4c results:\n",
      "        q4c - 1 result:\n",
      "            ❌ Test case failed\n",
      "            Trying:\n",
      "                assert get_hash(smallest_num) == 'e0c641195b27425bb056ac56f8953d24'\n",
      "            Expecting nothing\n",
      "            **********************************************************************\n",
      "            Line 1, in q4c 0\n",
      "            Failed example:\n",
      "                assert get_hash(smallest_num) == 'e0c641195b27425bb056ac56f8953d24'\n",
      "            Exception raised:\n",
      "                Traceback (most recent call last):\n",
      "                  File \"/opt/conda/lib/python3.10/doctest.py\", line 1350, in __run\n",
      "                    exec(compile(example.source, filename, \"single\",\n",
      "                  File \"<doctest q4c 0[0]>\", line 1, in <module>\n",
      "                    assert get_hash(smallest_num) == 'e0c641195b27425bb056ac56f8953d24'\n",
      "                AssertionError\n",
      "\n",
      "    q4d results:\n",
      "        q4d - 1 result:\n",
      "            ❌ Test case failed\n",
      "            Trying:\n",
      "                assert np.isclose(shaded_area, 0.89899483)\n",
      "            Expecting nothing\n",
      "            **********************************************************************\n",
      "            Line 1, in q4d 0\n",
      "            Failed example:\n",
      "                assert np.isclose(shaded_area, 0.89899483)\n",
      "            Exception raised:\n",
      "                Traceback (most recent call last):\n",
      "                  File \"/opt/conda/lib/python3.10/doctest.py\", line 1350, in __run\n",
      "                    exec(compile(example.source, filename, \"single\",\n",
      "                  File \"<doctest q4d 0[0]>\", line 1, in <module>\n",
      "                    assert np.isclose(shaded_area, 0.89899483)\n",
      "                  File \"<__array_function__ internals>\", line 200, in isclose\n",
      "                  File \"/opt/conda/lib/python3.10/site-packages/numpy/core/numeric.py\", line 2377, in isclose\n",
      "                    xfin = isfinite(x)\n",
      "                TypeError: ufunc 'isfinite' not supported for the input types, and the inputs could not be safely coerced to any supported types according to the casting rule ''safe''\n",
      "\n",
      "    q4e results:\n",
      "        q4e - 1 result:\n",
      "            ❌ Test case failed\n",
      "            Trying:\n",
      "                assert get_hash(round(SD_99, 2)) == '312a77c20595d65b6cdb34b8da493ffb'\n",
      "            Expecting nothing\n",
      "            **********************************************************************\n",
      "            Line 1, in q4e 0\n",
      "            Failed example:\n",
      "                assert get_hash(round(SD_99, 2)) == '312a77c20595d65b6cdb34b8da493ffb'\n",
      "            Exception raised:\n",
      "                Traceback (most recent call last):\n",
      "                  File \"/opt/conda/lib/python3.10/doctest.py\", line 1350, in __run\n",
      "                    exec(compile(example.source, filename, \"single\",\n",
      "                  File \"<doctest q4e 0[0]>\", line 1, in <module>\n",
      "                    assert get_hash(round(SD_99, 2)) == '312a77c20595d65b6cdb34b8da493ffb'\n",
      "                TypeError: type ellipsis doesn't define __round__ method\n",
      "\n",
      "        q4e - 2 result:\n",
      "            ❌ Test case failed\n",
      "            Trying:\n",
      "                assert get_hash(smallest_num_99) == 'd736bb10d83a904aefc1d6ce93dc54b8'\n",
      "            Expecting nothing\n",
      "            **********************************************************************\n",
      "            Line 1, in q4e 1\n",
      "            Failed example:\n",
      "                assert get_hash(smallest_num_99) == 'd736bb10d83a904aefc1d6ce93dc54b8'\n",
      "            Exception raised:\n",
      "                Traceback (most recent call last):\n",
      "                  File \"/opt/conda/lib/python3.10/doctest.py\", line 1350, in __run\n",
      "                    exec(compile(example.source, filename, \"single\",\n",
      "                  File \"<doctest q4e 1[0]>\", line 1, in <module>\n",
      "                    assert get_hash(smallest_num_99) == 'd736bb10d83a904aefc1d6ce93dc54b8'\n",
      "                AssertionError\n",
      "\n",
      "    q5a results:\n",
      "        q5a - 1 result:\n",
      "            ❌ Test case failed\n",
      "            Trying:\n",
      "                assert get_hash(len(resample_yes_proportions)) == 'b7a782741f667201b54880c925faec4b'\n",
      "            Expecting nothing\n",
      "            **********************************************************************\n",
      "            Line 1, in q5a 0\n",
      "            Failed example:\n",
      "                assert get_hash(len(resample_yes_proportions)) == 'b7a782741f667201b54880c925faec4b'\n",
      "            Exception raised:\n",
      "                Traceback (most recent call last):\n",
      "                  File \"/opt/conda/lib/python3.10/doctest.py\", line 1350, in __run\n",
      "                    exec(compile(example.source, filename, \"single\",\n",
      "                  File \"<doctest q5a 0[0]>\", line 1, in <module>\n",
      "                    assert get_hash(len(resample_yes_proportions)) == 'b7a782741f667201b54880c925faec4b'\n",
      "                NameError: name 'resample_yes_proportions' is not defined\n",
      "\n",
      "        q5a - 2 result:\n",
      "            ❌ Test case failed\n",
      "            Trying:\n",
      "                assert abs(np.mean(resample_yes_proportions) - 0.525) < 0.025 and np.std(resample_yes_proportions) < 0.08\n",
      "            Expecting nothing\n",
      "            **********************************************************************\n",
      "            Line 1, in q5a 1\n",
      "            Failed example:\n",
      "                assert abs(np.mean(resample_yes_proportions) - 0.525) < 0.025 and np.std(resample_yes_proportions) < 0.08\n",
      "            Exception raised:\n",
      "                Traceback (most recent call last):\n",
      "                  File \"/opt/conda/lib/python3.10/doctest.py\", line 1350, in __run\n",
      "                    exec(compile(example.source, filename, \"single\",\n",
      "                  File \"<doctest q5a 1[0]>\", line 1, in <module>\n",
      "                    assert abs(np.mean(resample_yes_proportions) - 0.525) < 0.025 and np.std(resample_yes_proportions) < 0.08\n",
      "                NameError: name 'resample_yes_proportions' is not defined\n",
      "\n",
      "    q5c results:\n",
      "        q5c - 1 result:\n",
      "            ❌ Test case failed\n",
      "            Trying:\n",
      "                get_hash(round(approximate_sd, 6)) == '30663513ac7c92eb3d6f318f74ed6fcc'\n",
      "            Expecting:\n",
      "                True\n",
      "            **********************************************************************\n",
      "            Line 1, in q5c 0\n",
      "            Failed example:\n",
      "                get_hash(round(approximate_sd, 6)) == '30663513ac7c92eb3d6f318f74ed6fcc'\n",
      "            Exception raised:\n",
      "                Traceback (most recent call last):\n",
      "                  File \"/opt/conda/lib/python3.10/doctest.py\", line 1350, in __run\n",
      "                    exec(compile(example.source, filename, \"single\",\n",
      "                  File \"<doctest q5c 0[0]>\", line 1, in <module>\n",
      "                    get_hash(round(approximate_sd, 6)) == '30663513ac7c92eb3d6f318f74ed6fcc'\n",
      "                TypeError: type ellipsis doesn't define __round__ method\n",
      "\n",
      "    q5d results:\n",
      "        q5d - 1 result:\n",
      "            ❌ Test case failed\n",
      "            Trying:\n",
      "                assert exact_sd < 0.05\n",
      "            Expecting nothing\n",
      "            **********************************************************************\n",
      "            Line 1, in q5d 0\n",
      "            Failed example:\n",
      "                assert exact_sd < 0.05\n",
      "            Exception raised:\n",
      "                Traceback (most recent call last):\n",
      "                  File \"/opt/conda/lib/python3.10/doctest.py\", line 1350, in __run\n",
      "                    exec(compile(example.source, filename, \"single\",\n",
      "                  File \"<doctest q5d 0[0]>\", line 1, in <module>\n",
      "                    assert exact_sd < 0.05\n",
      "                TypeError: '<' not supported between instances of 'ellipsis' and 'float'\n",
      "\n",
      "        q5d - 2 result:\n",
      "            ❌ Test case failed\n",
      "            Trying:\n",
      "                assert 0.02 <= exact_sd <= 0.03\n",
      "            Expecting nothing\n",
      "            **********************************************************************\n",
      "            Line 1, in q5d 1\n",
      "            Failed example:\n",
      "                assert 0.02 <= exact_sd <= 0.03\n",
      "            Exception raised:\n",
      "                Traceback (most recent call last):\n",
      "                  File \"/opt/conda/lib/python3.10/doctest.py\", line 1350, in __run\n",
      "                    exec(compile(example.source, filename, \"single\",\n",
      "                  File \"<doctest q5d 1[0]>\", line 1, in <module>\n",
      "                    assert 0.02 <= exact_sd <= 0.03\n",
      "                TypeError: '<=' not supported between instances of 'float' and 'ellipsis'\n",
      "\n",
      "    q5e results:\n",
      "        q5e - 1 result:\n",
      "            ❌ Test case failed\n",
      "            Trying:\n",
      "                assert get_hash(round(lower_limit, 5)) == 'd85d7091831f11e5d78c4a8a4cd2ee8d'\n",
      "            Expecting nothing\n",
      "            **********************************************************************\n",
      "            Line 1, in q5e 0\n",
      "            Failed example:\n",
      "                assert get_hash(round(lower_limit, 5)) == 'd85d7091831f11e5d78c4a8a4cd2ee8d'\n",
      "            Exception raised:\n",
      "                Traceback (most recent call last):\n",
      "                  File \"/opt/conda/lib/python3.10/doctest.py\", line 1350, in __run\n",
      "                    exec(compile(example.source, filename, \"single\",\n",
      "                  File \"<doctest q5e 0[0]>\", line 1, in <module>\n",
      "                    assert get_hash(round(lower_limit, 5)) == 'd85d7091831f11e5d78c4a8a4cd2ee8d'\n",
      "                TypeError: type ellipsis doesn't define __round__ method\n",
      "\n",
      "        q5e - 2 result:\n",
      "            ❌ Test case failed\n",
      "            Trying:\n",
      "                assert get_hash(round(upper_limit, 5)) == '0f328061e5e34aab598776e14423fbce'\n",
      "            Expecting nothing\n",
      "            **********************************************************************\n",
      "            Line 1, in q5e 1\n",
      "            Failed example:\n",
      "                assert get_hash(round(upper_limit, 5)) == '0f328061e5e34aab598776e14423fbce'\n",
      "            Exception raised:\n",
      "                Traceback (most recent call last):\n",
      "                  File \"/opt/conda/lib/python3.10/doctest.py\", line 1350, in __run\n",
      "                    exec(compile(example.source, filename, \"single\",\n",
      "                  File \"<doctest q5e 1[0]>\", line 1, in <module>\n",
      "                    assert get_hash(round(upper_limit, 5)) == '0f328061e5e34aab598776e14423fbce'\n",
      "                TypeError: type ellipsis doesn't define __round__ method\n",
      "\n",
      "    q5f results:\n",
      "        q5f - 1 result:\n",
      "            ❌ Test case failed\n",
      "            Trying:\n",
      "                assert get_hash(michelle_sample_size) == '0197fcd95060131d9bc5e564f842ed53'\n",
      "            Expecting nothing\n",
      "            **********************************************************************\n",
      "            Line 1, in q5f 0\n",
      "            Failed example:\n",
      "                assert get_hash(michelle_sample_size) == '0197fcd95060131d9bc5e564f842ed53'\n",
      "            Exception raised:\n",
      "                Traceback (most recent call last):\n",
      "                  File \"/opt/conda/lib/python3.10/doctest.py\", line 1350, in __run\n",
      "                    exec(compile(example.source, filename, \"single\",\n",
      "                  File \"<doctest q5f 0[0]>\", line 1, in <module>\n",
      "                    assert get_hash(michelle_sample_size) == '0197fcd95060131d9bc5e564f842ed53'\n",
      "                AssertionError\n",
      "\n",
      "        q5f - 2 result:\n",
      "            ❌ Test case failed\n",
      "            Trying:\n",
      "                assert get_hash(round(estimated_population_sd, 4)) == '53413c1f6393932649f9a65ee8a7e461'\n",
      "            Expecting nothing\n",
      "            **********************************************************************\n",
      "            Line 1, in q5f 1\n",
      "            Failed example:\n",
      "                assert get_hash(round(estimated_population_sd, 4)) == '53413c1f6393932649f9a65ee8a7e461'\n",
      "            Exception raised:\n",
      "                Traceback (most recent call last):\n",
      "                  File \"/opt/conda/lib/python3.10/doctest.py\", line 1350, in __run\n",
      "                    exec(compile(example.source, filename, \"single\",\n",
      "                  File \"<doctest q5f 1[0]>\", line 1, in <module>\n",
      "                    assert get_hash(round(estimated_population_sd, 4)) == '53413c1f6393932649f9a65ee8a7e461'\n",
      "                TypeError: type ellipsis doesn't define __round__ method\n",
      "\n",
      "        q5f - 3 result:\n",
      "            ❌ Test case failed\n",
      "            Trying:\n",
      "                assert get_hash(round(michelle_sample_mean_se, 4)) == 'f4881cfc4c6112c01b7cbb980bf0175c'\n",
      "            Expecting nothing\n",
      "            **********************************************************************\n",
      "            Line 1, in q5f 2\n",
      "            Failed example:\n",
      "                assert get_hash(round(michelle_sample_mean_se, 4)) == 'f4881cfc4c6112c01b7cbb980bf0175c'\n",
      "            Exception raised:\n",
      "                Traceback (most recent call last):\n",
      "                  File \"/opt/conda/lib/python3.10/doctest.py\", line 1350, in __run\n",
      "                    exec(compile(example.source, filename, \"single\",\n",
      "                  File \"<doctest q5f 2[0]>\", line 1, in <module>\n",
      "                    assert get_hash(round(michelle_sample_mean_se, 4)) == 'f4881cfc4c6112c01b7cbb980bf0175c'\n",
      "                TypeError: type ellipsis doesn't define __round__ method\n",
      "\n",
      "    q5g results:\n",
      "        q5g - 1 result:\n",
      "            ❌ Test case failed\n",
      "            Trying:\n",
      "                assert smaller_sample_size < michelle_sample_size\n",
      "            Expecting nothing\n",
      "            **********************************************************************\n",
      "            Line 1, in q5g 0\n",
      "            Failed example:\n",
      "                assert smaller_sample_size < michelle_sample_size\n",
      "            Exception raised:\n",
      "                Traceback (most recent call last):\n",
      "                  File \"/opt/conda/lib/python3.10/doctest.py\", line 1350, in __run\n",
      "                    exec(compile(example.source, filename, \"single\",\n",
      "                  File \"<doctest q5g 0[0]>\", line 1, in <module>\n",
      "                    assert smaller_sample_size < michelle_sample_size\n",
      "                TypeError: '<' not supported between instances of 'ellipsis' and 'ellipsis'\n",
      "\n",
      "        q5g - 2 result:\n",
      "            ❌ Test case failed\n",
      "            Trying:\n",
      "                assert smaller_sample_mean_se > 0.005\n",
      "            Expecting nothing\n",
      "            **********************************************************************\n",
      "            Line 1, in q5g 1\n",
      "            Failed example:\n",
      "                assert smaller_sample_mean_se > 0.005\n",
      "            Exception raised:\n",
      "                Traceback (most recent call last):\n",
      "                  File \"/opt/conda/lib/python3.10/doctest.py\", line 1350, in __run\n",
      "                    exec(compile(example.source, filename, \"single\",\n",
      "                  File \"<doctest q5g 1[0]>\", line 1, in <module>\n",
      "                    assert smaller_sample_mean_se > 0.005\n",
      "                TypeError: '>' not supported between instances of 'ellipsis' and 'float'\n",
      "\n",
      "    q5h results:\n",
      "        q5h - 1 result:\n",
      "            ❌ Test case failed\n",
      "            Trying:\n",
      "                assert larger_sample_size > michelle_sample_size\n",
      "            Expecting nothing\n",
      "            **********************************************************************\n",
      "            Line 1, in q5h 0\n",
      "            Failed example:\n",
      "                assert larger_sample_size > michelle_sample_size\n",
      "            Exception raised:\n",
      "                Traceback (most recent call last):\n",
      "                  File \"/opt/conda/lib/python3.10/doctest.py\", line 1350, in __run\n",
      "                    exec(compile(example.source, filename, \"single\",\n",
      "                  File \"<doctest q5h 0[0]>\", line 1, in <module>\n",
      "                    assert larger_sample_size > michelle_sample_size\n",
      "                TypeError: '>' not supported between instances of 'ellipsis' and 'ellipsis'\n",
      "\n",
      "        q5h - 2 result:\n",
      "            ❌ Test case failed\n",
      "            Trying:\n",
      "                assert larger_sample_mean_se < 0.005\n",
      "            Expecting nothing\n",
      "            **********************************************************************\n",
      "            Line 1, in q5h 1\n",
      "            Failed example:\n",
      "                assert larger_sample_mean_se < 0.005\n",
      "            Exception raised:\n",
      "                Traceback (most recent call last):\n",
      "                  File \"/opt/conda/lib/python3.10/doctest.py\", line 1350, in __run\n",
      "                    exec(compile(example.source, filename, \"single\",\n",
      "                  File \"<doctest q5h 1[0]>\", line 1, in <module>\n",
      "                    assert larger_sample_mean_se < 0.005\n",
      "                TypeError: '<' not supported between instances of 'ellipsis' and 'float'\n",
      "\n",
      "    q5i results: All test cases passed!\n"
     ]
    },
    {
     "data": {
      "text/html": [
       "\n",
       "                    <p>\n",
       "                        Your submission has been exported. Click\n",
       "                        <a href=\"hw09_2025_07_04T12_39_37_195239.zip\" download=\"hw09_2025_07_04T12_39_37_195239.zip\" target=\"_blank\">here</a> to download\n",
       "                        the zip file.\n",
       "                    </p>\n",
       "                "
      ],
      "text/plain": [
       "<IPython.core.display.HTML object>"
      ]
     },
     "metadata": {},
     "output_type": "display_data"
    }
   ],
   "source": [
    "# Save your notebook first, then run this cell to export your submission.\n",
    "grader.export(run_tests=True)"
   ]
  },
  {
   "cell_type": "markdown",
   "id": "7ba578b3",
   "metadata": {},
   "source": [
    " "
   ]
  }
 ],
 "metadata": {
  "kernelspec": {
   "display_name": "Python 3 (ipykernel)",
   "language": "python",
   "name": "python3"
  },
  "language_info": {
   "codemirror_mode": {
    "name": "ipython",
    "version": 3
   },
   "file_extension": ".py",
   "mimetype": "text/x-python",
   "name": "python",
   "nbconvert_exporter": "python",
   "pygments_lexer": "ipython3",
   "version": "3.10.8"
  },
  "otter": {
   "OK_FORMAT": true,
   "tests": {
    "q2a": {
     "name": "q2a",
     "points": [
      0,
      0,
      0,
      2
     ],
     "suites": [
      {
       "cases": [
        {
         "code": ">>> assert type(one_resampled_percentage(votes)) in set([float, np.float64])\n",
         "hidden": false,
         "locked": false
        },
        {
         "code": ">>> assert one_resampled_percentage(votes) > 0\n",
         "hidden": false,
         "locked": false
        },
        {
         "code": ">>> assert 35 <= one_resampled_percentage(votes) <= 65\n",
         "hidden": false,
         "locked": false
        },
        {
         "code": ">>> np.random.seed(123)\n>>> assert np.isclose(one_resampled_percentage(votes), 52.400000000000006)\n",
         "hidden": false,
         "locked": false
        }
       ],
       "scored": true,
       "setup": "",
       "teardown": "",
       "type": "doctest"
      }
     ]
    },
    "q2b": {
     "name": "q2b",
     "points": [
      0,
      0.5,
      0.5
     ],
     "suites": [
      {
       "cases": [
        {
         "code": ">>> assert get_hash(len(resampled_percentages)) == '70f44538106c52ad2a01ffba924792e2'\n",
         "hidden": false,
         "locked": false
        },
        {
         "code": ">>> np.random.seed(123)\n>>> assert np.isclose(percentages_in_resamples(2000).item(0), 52.400000000000006)\n",
         "hidden": false,
         "locked": false
        },
        {
         "code": ">>> np.random.seed(123)\n>>> assert np.isclose(percentages_in_resamples(2000).item(10), 51.33333333333333)\n",
         "hidden": false,
         "locked": false
        }
       ],
       "scored": true,
       "setup": "",
       "teardown": "",
       "type": "doctest"
      }
     ]
    },
    "q2c": {
     "name": "q2c",
     "points": [
      1
     ],
     "suites": [
      {
       "cases": [
        {
         "code": ">>> assert all([khow_lower_bound == np.percentile(resampled_percentages, 2.5), khow_upper_bound == np.percentile(resampled_percentages, 97.5)])\n",
         "hidden": false,
         "locked": false
        }
       ],
       "scored": true,
       "setup": "",
       "teardown": "",
       "type": "doctest"
      }
     ]
    },
    "q3b": {
     "name": "q3b",
     "points": [
      1
     ],
     "suites": [
      {
       "cases": [
        {
         "code": ">>> assert get_hash(int(true_percentage_intervals)) == '84f5ddd735176becc72c3b1ff424149e'\n",
         "hidden": false,
         "locked": false
        }
       ],
       "scored": true,
       "setup": "",
       "teardown": "",
       "type": "doctest"
      }
     ]
    },
    "q3c": {
     "name": "q3c",
     "points": [
      0,
      1
     ],
     "suites": [
      {
       "cases": [
        {
         "code": ">>> assert 1 <= cutoff_five_percent <= 3\n",
         "hidden": false,
         "locked": false
        },
        {
         "code": ">>> assert get_hash(cutoff_five_percent) == 'c4ca4238a0b923820dcc509a6f75849b'\n",
         "hidden": false,
         "locked": false
        }
       ],
       "scored": true,
       "setup": "",
       "teardown": "",
       "type": "doctest"
      }
     ]
    },
    "q3d": {
     "name": "q3d",
     "points": [
      0,
      1
     ],
     "suites": [
      {
       "cases": [
        {
         "code": ">>> assert 1 <= cutoff_one_percent <= 3\n",
         "hidden": false,
         "locked": false
        },
        {
         "code": ">>> assert get_hash(cutoff_one_percent) == 'eccbc87e4b5ce2fe28308fd9f2a7baf3'\n",
         "hidden": false,
         "locked": false
        }
       ],
       "scored": true,
       "setup": "",
       "teardown": "",
       "type": "doctest"
      }
     ]
    },
    "q3e": {
     "name": "q3e",
     "points": [
      0,
      1
     ],
     "suites": [
      {
       "cases": [
        {
         "code": ">>> assert 1 <= cutoff_ten_percent <= 3\n",
         "hidden": false,
         "locked": false
        },
        {
         "code": ">>> assert get_hash(cutoff_ten_percent) == 'c4ca4238a0b923820dcc509a6f75849b'\n",
         "hidden": false,
         "locked": false
        }
       ],
       "scored": true,
       "setup": "",
       "teardown": "",
       "type": "doctest"
      }
     ]
    },
    "q4a": {
     "name": "q4a",
     "points": [
      2
     ],
     "suites": [
      {
       "cases": [
        {
         "code": ">>> assert get_hash(smallest) == '233509073ed3432027d48b1a83f5fbd2'\n",
         "hidden": false,
         "locked": false
        }
       ],
       "scored": true,
       "setup": "",
       "teardown": "",
       "type": "doctest"
      }
     ]
    },
    "q4b": {
     "name": "q4b",
     "points": [
      0,
      2
     ],
     "suites": [
      {
       "cases": [
        {
         "code": ">>> assert 1 <= sample_90 <= 3\n",
         "hidden": false,
         "locked": false
        },
        {
         "code": ">>> assert get_hash(sample_90) == 'c81e728d9d4c2f636f067f89cc14862c'\n",
         "hidden": false,
         "locked": false
        }
       ],
       "scored": true,
       "setup": "",
       "teardown": "",
       "type": "doctest"
      }
     ]
    },
    "q4c": {
     "name": "q4c",
     "points": [
      2
     ],
     "suites": [
      {
       "cases": [
        {
         "code": ">>> assert get_hash(smallest_num) == 'e0c641195b27425bb056ac56f8953d24'\n",
         "hidden": false,
         "locked": false
        }
       ],
       "scored": true,
       "setup": "",
       "teardown": "",
       "type": "doctest"
      }
     ]
    },
    "q4d": {
     "name": "q4d",
     "points": 1,
     "suites": [
      {
       "cases": [
        {
         "code": ">>> assert np.isclose(shaded_area, 0.89899483)\n",
         "hidden": false,
         "locked": false
        }
       ],
       "scored": true,
       "setup": "",
       "teardown": "",
       "type": "doctest"
      }
     ]
    },
    "q4e": {
     "name": "q4e",
     "points": [
      1,
      1
     ],
     "suites": [
      {
       "cases": [
        {
         "code": ">>> assert get_hash(round(SD_99, 2)) == '312a77c20595d65b6cdb34b8da493ffb'\n",
         "hidden": false,
         "locked": false
        },
        {
         "code": ">>> assert get_hash(smallest_num_99) == 'd736bb10d83a904aefc1d6ce93dc54b8'\n",
         "hidden": false,
         "locked": false
        }
       ],
       "scored": true,
       "setup": "",
       "teardown": "",
       "type": "doctest"
      }
     ]
    },
    "q5a": {
     "name": "q5a",
     "points": 0,
     "suites": [
      {
       "cases": [
        {
         "code": ">>> assert get_hash(len(resample_yes_proportions)) == 'b7a782741f667201b54880c925faec4b'\n",
         "hidden": false,
         "locked": false
        },
        {
         "code": ">>> assert abs(np.mean(resample_yes_proportions) - 0.525) < 0.025 and np.std(resample_yes_proportions) < 0.08\n",
         "hidden": false,
         "locked": false
        }
       ],
       "scored": true,
       "setup": "",
       "teardown": "",
       "type": "doctest"
      }
     ]
    },
    "q5c": {
     "name": "q5c",
     "points": [
      1
     ],
     "suites": [
      {
       "cases": [
        {
         "code": ">>> get_hash(round(approximate_sd, 6)) == '30663513ac7c92eb3d6f318f74ed6fcc'\nTrue",
         "hidden": false,
         "locked": false
        }
       ],
       "scored": true,
       "setup": "",
       "teardown": "",
       "type": "doctest"
      }
     ]
    },
    "q5d": {
     "name": "q5d",
     "points": [
      0,
      2
     ],
     "suites": [
      {
       "cases": [
        {
         "code": ">>> assert exact_sd < 0.05\n",
         "hidden": false,
         "locked": false
        },
        {
         "code": ">>> assert 0.02 <= exact_sd <= 0.03\n",
         "hidden": false,
         "locked": false
        }
       ],
       "scored": true,
       "setup": "",
       "teardown": "",
       "type": "doctest"
      }
     ]
    },
    "q5e": {
     "name": "q5e",
     "points": [
      1,
      1
     ],
     "suites": [
      {
       "cases": [
        {
         "code": ">>> assert get_hash(round(lower_limit, 5)) == 'd85d7091831f11e5d78c4a8a4cd2ee8d'\n",
         "hidden": false,
         "locked": false
        },
        {
         "code": ">>> assert get_hash(round(upper_limit, 5)) == '0f328061e5e34aab598776e14423fbce'\n",
         "hidden": false,
         "locked": false
        }
       ],
       "scored": true,
       "setup": "",
       "teardown": "",
       "type": "doctest"
      }
     ]
    },
    "q5f": {
     "name": "q5f",
     "points": [
      0,
      0.5,
      0.5
     ],
     "suites": [
      {
       "cases": [
        {
         "code": ">>> assert get_hash(michelle_sample_size) == '0197fcd95060131d9bc5e564f842ed53'\n",
         "hidden": false,
         "locked": false
        },
        {
         "code": ">>> assert get_hash(round(estimated_population_sd, 4)) == '53413c1f6393932649f9a65ee8a7e461'\n",
         "hidden": false,
         "locked": false
        },
        {
         "code": ">>> assert get_hash(round(michelle_sample_mean_se, 4)) == 'f4881cfc4c6112c01b7cbb980bf0175c'\n",
         "hidden": false,
         "locked": false
        }
       ],
       "scored": true,
       "setup": "",
       "teardown": "",
       "type": "doctest"
      }
     ]
    },
    "q5g": {
     "name": "q5g",
     "points": [
      0,
      1
     ],
     "suites": [
      {
       "cases": [
        {
         "code": ">>> assert smaller_sample_size < michelle_sample_size\n",
         "hidden": false,
         "locked": false
        },
        {
         "code": ">>> assert smaller_sample_mean_se > 0.005\n",
         "hidden": false,
         "locked": false
        }
       ],
       "scored": true,
       "setup": "",
       "teardown": "",
       "type": "doctest"
      }
     ]
    },
    "q5h": {
     "name": "q5h",
     "points": [
      0,
      1
     ],
     "suites": [
      {
       "cases": [
        {
         "code": ">>> assert larger_sample_size > michelle_sample_size\n",
         "hidden": false,
         "locked": false
        },
        {
         "code": ">>> assert larger_sample_mean_se < 0.005\n",
         "hidden": false,
         "locked": false
        }
       ],
       "scored": true,
       "setup": "",
       "teardown": "",
       "type": "doctest"
      }
     ]
    },
    "q5i": {
     "name": "q5i",
     "points": [
      0,
      1
     ],
     "suites": [
      {
       "cases": [
        {
         "code": ">>> assert min_sufficient or not min_sufficient\n",
         "hidden": false,
         "locked": false
        },
        {
         "code": ">>> assert min_sufficient\n",
         "hidden": false,
         "locked": false
        }
       ],
       "scored": true,
       "setup": "",
       "teardown": "",
       "type": "doctest"
      }
     ]
    }
   }
  }
 },
 "nbformat": 4,
 "nbformat_minor": 5
}
